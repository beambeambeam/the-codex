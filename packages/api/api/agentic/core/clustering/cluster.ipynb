{
 "cells": [
  {
   "cell_type": "markdown",
   "id": "ae5824c8",
   "metadata": {},
   "source": [
    "# Topic Cluster For Document Chunks"
   ]
  },
  {
   "cell_type": "markdown",
   "id": "5dadc53e",
   "metadata": {},
   "source": [
    "This is task for cluster document with visualization"
   ]
  },
  {
   "cell_type": "markdown",
   "id": "a38b38ef",
   "metadata": {},
   "source": [
    "### Data Fetching"
   ]
  },
  {
   "cell_type": "markdown",
   "id": "53af9cff",
   "metadata": {},
   "source": [
    "Fetch embeddings of each chunk from Postgres Service"
   ]
  },
  {
   "cell_type": "code",
   "execution_count": 2,
   "id": "76983c43",
   "metadata": {},
   "outputs": [],
   "source": [
    "import warnings\n",
    "\n",
    "warnings.filterwarnings(\"ignore\")"
   ]
  },
  {
   "cell_type": "code",
   "execution_count": null,
   "id": "eb1656d9",
   "metadata": {},
   "outputs": [],
   "source": [
    "from collections import Counter, defaultdict\n",
    "\n",
    "import matplotlib.pyplot as plt\n",
    "import numpy as np\n",
    "\n",
    "from api.database import get_db\n",
    "from api.document.dependencies import get_document_service\n",
    "\n",
    "collection_id=\"9f27817f-2382-424d-9df2-8a18b67d6251\"\n",
    "\n",
    "def get_collection_document_embeddings(collection_id):\n",
    "    \"\"\"Fetches document embeddings (average value) for a given collection.\"\"\"\n",
    "    service = get_document_service(next(get_db()))\n",
    "    documents = service.get_collection_documents(collection_id=collection_id)\n",
    "    \n",
    "    doc_embeddings = defaultdict(list)\n",
    "    \n",
    "    for doc in documents:\n",
    "        chunks = service.get_document_chunks(document_id=doc.id)\n",
    "        for chunk in chunks:\n",
    "            if chunk.embedding is not None:\n",
    "                doc_embeddings[doc.id].append(chunk.embedding)\n",
    "\n",
    "    document_vectors = {}\n",
    "\n",
    "    for doc_id, chunk_embeds in doc_embeddings.items():\n",
    "        if chunk_embeds:  # if there are any embeddings\n",
    "            document_vectors[doc_id] = np.mean(chunk_embeds, axis=0)\n",
    "\n",
    "    return document_vectors\n",
    "\n",
    "def get_collection_chunk_embeddings(collection_id):\n",
    "    \"\"\"Fetches chunk embeddings for a given collection.\"\"\"\n",
    "    service = get_document_service(next(get_db()))\n",
    "    documents = service.get_collection_documents(collection_id=collection_id)\n",
    "    \n",
    "    chunk_embeddings = defaultdict(list)\n",
    "    \n",
    "    for doc in documents:\n",
    "        chunks = service.get_document_chunks(document_id=doc.id)\n",
    "        for chunk in chunks:\n",
    "            if chunk.embedding is not None:\n",
    "                chunk_embeddings[doc.id].append({\n",
    "                    \"embedding\": chunk.embedding,\n",
    "                    \"text\": chunk.chunk_text,\n",
    "                    \"file_name\": doc.file_name\n",
    "                })\n",
    "\n",
    "    return chunk_embeddings"
   ]
  },
  {
   "cell_type": "code",
   "execution_count": 100,
   "id": "768e63e5",
   "metadata": {},
   "outputs": [
    {
     "data": {
      "text/plain": [
       "dict_keys(['495fb9ae-61b7-45cd-9062-ef93cdba65aa', 'd21282d0-6699-43b7-bc19-32e41ac54a99', '12b22df8-a310-4c67-82e1-e0a8a9b60d48', '2664dd5f-aa91-4c08-b30a-57b41e94e600', '4b46efdf-0db0-42e2-af04-c03cd2d9058a', '43531378-8340-494d-80d5-a5388e654029', '3fecf9b1-d101-41cf-862c-433d3c4ffe58', 'b21ef601-e9b2-4354-95f5-1d83ae6f4a3a'])"
      ]
     },
     "execution_count": 100,
     "metadata": {},
     "output_type": "execute_result"
    }
   ],
   "source": [
    "chunk_embeddings = get_collection_chunk_embeddings(collection_id)\n",
    "\n",
    "chunk_embeddings.keys()"
   ]
  },
  {
   "cell_type": "code",
   "execution_count": 101,
   "id": "44fcc443",
   "metadata": {},
   "outputs": [
    {
     "data": {
      "text/plain": [
       "{'12b22df8-a310-4c67-82e1-e0a8a9b60d48',\n",
       " '2664dd5f-aa91-4c08-b30a-57b41e94e600',\n",
       " '3fecf9b1-d101-41cf-862c-433d3c4ffe58',\n",
       " '43531378-8340-494d-80d5-a5388e654029',\n",
       " '495fb9ae-61b7-45cd-9062-ef93cdba65aa',\n",
       " '4b46efdf-0db0-42e2-af04-c03cd2d9058a',\n",
       " 'b21ef601-e9b2-4354-95f5-1d83ae6f4a3a',\n",
       " 'd21282d0-6699-43b7-bc19-32e41ac54a99'}"
      ]
     },
     "execution_count": 101,
     "metadata": {},
     "output_type": "execute_result"
    }
   ],
   "source": [
    "set(chunk_embeddings.keys())"
   ]
  },
  {
   "cell_type": "code",
   "execution_count": 175,
   "id": "7bcc0c17",
   "metadata": {},
   "outputs": [],
   "source": [
    "chunk_texts = []\n",
    "embeddings = []\n",
    "doc_labels = []\n",
    "doc_ids = []\n",
    "\n",
    "for doc_key, chunk_list in chunk_embeddings.items():\n",
    "    for chunk_dict in chunk_list:\n",
    "        chunk_texts.append(chunk_dict[\"text\"])  # This is the chunk text\n",
    "        embeddings.append(chunk_dict[\"embedding\"])\n",
    "        doc_ids.append(doc_key) # This is the document ID\n",
    "        doc_labels.append(chunk_dict[\"file_name\"]) # This is the document file name"
   ]
  },
  {
   "cell_type": "code",
   "execution_count": 103,
   "id": "0076fa7f",
   "metadata": {},
   "outputs": [
    {
     "data": {
      "text/plain": [
       "27"
      ]
     },
     "execution_count": 103,
     "metadata": {},
     "output_type": "execute_result"
    }
   ],
   "source": [
    "# Try pick one\n",
    "\n",
    "len(chunk_embeddings[\"12b22df8-a310-4c67-82e1-e0a8a9b60d48\"])"
   ]
  },
  {
   "cell_type": "code",
   "execution_count": 104,
   "id": "4a12053b",
   "metadata": {},
   "outputs": [],
   "source": [
    "\n",
    "import matplotlib.pyplot as plt\n",
    "from matplotlib.cm import get_cmap\n",
    "\n",
    "\n",
    "def plot_embedding_2d_by_doc(embedding_2d, doc_labels, title=\"UMAP of Chunk Embeddings\"):\n",
    "    \"\"\"\n",
    "    Plots a 2D embedding with points colored by document labels.\n",
    "\n",
    "    Args:\n",
    "        embedding_2d (ndarray): 2D numpy array of shape (n_samples, 2).\n",
    "        doc_labels (list): List of document keys corresponding to each point.\n",
    "        title (str): Plot title.\n",
    "    \"\"\"\n",
    "    unique_docs = list(set(doc_labels))\n",
    "    doc_to_int = {doc: i for i, doc in enumerate(unique_docs)}\n",
    "    numeric_labels = [doc_to_int[label] for label in doc_labels]\n",
    "\n",
    "    plt.figure(figsize=(10, 8))\n",
    "    scatter = plt.scatter(\n",
    "        embedding_2d[:, 0],\n",
    "        embedding_2d[:, 1],\n",
    "        c=numeric_labels,\n",
    "        cmap='tab10',\n",
    "        s=20\n",
    "    )\n",
    "\n",
    "    # Legend setup\n",
    "    handles = []\n",
    "    cmap = get_cmap('tab10')\n",
    "    for i, doc in enumerate(unique_docs):\n",
    "        handles.append(plt.Line2D([], [], marker=\"o\", linestyle=\"\", color=cmap(i), label=doc))\n",
    "\n",
    "    plt.legend(handles=handles, title=\"Documents\", bbox_to_anchor=(1.05, 1), loc='upper left')\n",
    "    plt.title(title)\n",
    "    plt.tight_layout()\n",
    "    plt.show()"
   ]
  },
  {
   "cell_type": "markdown",
   "id": "131298dd",
   "metadata": {},
   "source": [
    "### Fit Transform"
   ]
  },
  {
   "cell_type": "markdown",
   "id": "291ffed8",
   "metadata": {},
   "source": [
    "- use UMAP to reduce the dimensionality of the embeddings\n",
    "- 2D visualization"
   ]
  },
  {
   "cell_type": "code",
   "execution_count": 105,
   "id": "b4aa9161",
   "metadata": {},
   "outputs": [
    {
     "data": {
      "image/png": "[encoded data removed]",
      "text/plain": [
       "<Figure size 1000x800 with 1 Axes>"
      ]
     },
     "metadata": {},
     "output_type": "display_data"
    }
   ],
   "source": [
    "import umap\n",
    "from bertopic import BERTopic\n",
    "from hdbscan import HDBSCAN\n",
    "\n",
    "from api.agentic.dependencies import get_text_embedder\n",
    "\n",
    "reducer = umap.UMAP(\n",
    "    n_neighbors=15,\n",
    "    metric='cosine',\n",
    "    random_state=42,\n",
    "    n_components=2\n",
    ")\n",
    "\n",
    "embedding_2d = reducer.fit_transform(embeddings)\n",
    "\n",
    "plot_embedding_2d_by_doc(embedding_2d, doc_labels, title=\"Chunk Embedding UMAP Projection\")"
   ]
  },
  {
   "cell_type": "code",
   "execution_count": 289,
   "id": "ad3fcfe0",
   "metadata": {},
   "outputs": [],
   "source": [
    "HDBSCAN_model = HDBSCAN(\n",
    "    min_cluster_size=3,\n",
    "    max_cluster_size=10,\n",
    "    cluster_selection_epsilon=0.2,\n",
    "    prediction_data=True,\n",
    ")"
   ]
  },
  {
   "cell_type": "code",
   "execution_count": 290,
   "id": "d77c8df1",
   "metadata": {},
   "outputs": [
    {
     "name": "stderr",
     "output_type": "stream",
     "text": [
      "\u001b[32m2025-07-05 22:19:12.747\u001b[0m | \u001b[1mINFO    \u001b[0m | \u001b[36mapi.agentic.core.embedding.embedding\u001b[0m:\u001b[36m_load_model\u001b[0m:\u001b[36m37\u001b[0m - \u001b[1mLoading embedding model: FlukeTJ/bge-m3-m2v-distilled-256 using backend: model2vec\u001b[0m\n"
     ]
    },
    {
     "name": "stderr",
     "output_type": "stream",
     "text": [
      "\u001b[32m2025-07-05 22:19:19.692\u001b[0m | \u001b[1mINFO    \u001b[0m | \u001b[36mapi.agentic.core.embedding.embedding\u001b[0m:\u001b[36m_load_model\u001b[0m:\u001b[36m50\u001b[0m - \u001b[1mEmbedding model loaded successfully.\u001b[0m\n"
     ]
    }
   ],
   "source": [
    "embedder = get_text_embedder()"
   ]
  },
  {
   "cell_type": "code",
   "execution_count": 291,
   "id": "6a83ea90",
   "metadata": {},
   "outputs": [],
   "source": [
    "topic_model = BERTopic(\n",
    "    embedding_model=embedder.model,\n",
    "    hdbscan_model=HDBSCAN_model,\n",
    "    umap_model=reducer,\n",
    "    calculate_probabilities=True,\n",
    "    top_n_words=50\n",
    ")"
   ]
  },
  {
   "cell_type": "code",
   "execution_count": 292,
   "id": "16926803",
   "metadata": {},
   "outputs": [],
   "source": [
    "chunk_topics, probs = topic_model.fit_transform(chunk_texts, np.array(embeddings))"
   ]
  },
  {
   "cell_type": "code",
   "execution_count": 293,
   "id": "26f9a515",
   "metadata": {},
   "outputs": [
    {
     "name": "stderr",
     "output_type": "stream",
     "text": [
      "100%|██████████| 24/24 [00:00<00:00, 32.71it/s]\n"
     ]
    },
    {
     "name": "stdout",
     "output_type": "stream",
     "text": [
      ".\n",
      "├─arxiv_and_preprint_neural_in\n",
      "│    ├─arxiv_and_neural_learning_preprint\n",
      "│    │    ├─■──journal_arxiv_and_learning_in ── Topic: 1\n",
      "│    │    └─■──arxiv_neural_and_preprint_2016 ── Topic: 6\n",
      "│    └─arxiv_https_language_association_url\n",
      "│         ├─■──association_arxiv_linguistics_computational_language ── Topic: 10\n",
      "│         └─■──https_url_org_2024_arxiv ── Topic: 4\n",
      "└─the_of_to_and_is\n",
      "     ├─thai_model_the_to_and\n",
      "     │    ├─findings_results_experimental_setup_10\n",
      "     │    │    ├─■──findings_experimental_setup_results_speech ── Topic: 9\n",
      "     │    │    └─■──1020_math_table_1019_dataset ── Topic: 18\n",
      "     │    └─thai_the_model_to_we\n",
      "     │         ├─thai_on_model_language_the\n",
      "     │         │    ├─■──judge_bench_thai_the_gpt ── Topic: 20\n",
      "     │         │    └─■──thai_language_on_pretraining_llms ── Topic: 22\n",
      "     │         └─to_dataset_the_model_thai\n",
      "     │              ├─dataset_math_to_thai_context\n",
      "     │              │    ├─■──math_context_performance_code_coding ── Topic: 23\n",
      "     │              │    └─■──dataset_thai_to_the_quality ── Topic: 5\n",
      "     │              └─■──model_70b_al_et_wsj ── Topic: 17\n",
      "     └─the_of_is_to_and\n",
      "          ├─the_of_is_to_in\n",
      "          │    ├─the_of_is_fuzzy_matrix\n",
      "          │    │    ├─the_fuzzy_of_to_is\n",
      "          │    │    │    ├─fuzzy_set_sets_the_simplicial\n",
      "          │    │    │    │    ├─■──finreal_finsing_functor_adjoint_simplicial ── Topic: 12\n",
      "          │    │    │    │    └─■──fuzzy_set_sets_xi_the ── Topic: 3\n",
      "          │    │    │    └─the_umap_of_algorithm_in\n",
      "          │    │    │         ├─■──the_vij_pij_wij_algorithm ── Topic: 8\n",
      "          │    │    │         └─■──umap_in_of_section_structure ── Topic: 14\n",
      "          │    │    └─matrix_the_of_is_that\n",
      "          │    │         ├─■──matrix_the_is_of_covariance ── Topic: 2\n",
      "          │    │         └─■──equation_xˆvi_matrix_vectors_the ── Topic: 13\n",
      "          │    └─the_state_of_attention_to\n",
      "          │         ├─■──state_finite_39_𝑠0_grammar ── Topic: 0\n",
      "          │         └─the_attention_to_of_layer\n",
      "          │              ├─attention_the_layer_to_of\n",
      "          │              │    ├─■──tokenizer_tokens_the_training_big ── Topic: 24\n",
      "          │              │    └─■──attention_layer_the_layers_sequence ── Topic: 7\n",
      "          │              └─■──agentic_content_agent_the_refine ── Topic: 19\n",
      "          └─topic_topics_words_cluster_and\n",
      "               ├─topic_topics_words_cluster_modeling\n",
      "               │    ├─■──policy_topic_trade_coherence_crime ── Topic: 16\n",
      "               │    └─topic_topics_words_cluster_modeling\n",
      "               │         ├─■──topic_modeling_topics_and_words ── Topic: 11\n",
      "               │         └─■──cluster_words_each_sentence_topic ── Topic: 21\n",
      "               └─■──014_013_015_002_017 ── Topic: 15\n",
      "\n"
     ]
    }
   ],
   "source": [
    "hierarchical_topics = topic_model.hierarchical_topics(chunk_texts)\n",
    "tree = topic_model.get_topic_tree(hierarchical_topics)\n",
    "\n",
    "print(tree)"
   ]
  },
  {
   "cell_type": "code",
   "execution_count": 294,
   "id": "8533d84a",
   "metadata": {},
   "outputs": [
    {
     "data": {
      "application/vnd.plotly.v1+json": {
       "config": {
        "plotlyServerURL": "https://plot.ly"
       },
       "data": [
        {
         "hoverinfo": "text",
         "marker": {
          "color": "rgb(61,153,112)"
         },
         "mode": "lines",
         "type": "scatter",
         "x": {
          "bdata": "AAAAAAAAAAAiEJb3h1PkPyIQlveHU+Q/AAAAAAAAAAA=",
          "dtype": "f8"
         },
         "xaxis": "x",
         "y": {
          "bdata": "AAAAAAAAFMAAAAAAAAAUwAAAAAAAAC7AAAAAAAAALsA=",
          "dtype": "f8"
         },
         "yaxis": "y"
        },
        {
         "hoverinfo": "text",
         "marker": {
          "color": "rgb(61,153,112)"
         },
         "mode": "lines",
         "type": "scatter",
         "x": {
          "bdata": "AAAAAAAAAACeIJDsEyDmP54gkOwTIOY/AAAAAAAAAAA=",
          "dtype": "f8"
         },
         "xaxis": "x",
         "y": {
          "bdata": "AAAAAAAAOcAAAAAAAAA5wAAAAAAAgEHAAAAAAACAQcA=",
          "dtype": "f8"
         },
         "yaxis": "y"
        },
        {
         "hoverinfo": "text",
         "marker": {
          "color": "rgb(61,153,112)"
         },
         "mode": "lines",
         "type": "scatter",
         "x": {
          "bdata": "IhCW94dT5D+AHouIANHpP4Aei4gA0ek/niCQ7BMg5j8=",
          "dtype": "f8"
         },
         "xaxis": "x",
         "y": {
          "bdata": "AAAAAAAAJMAAAAAAAAAkwAAAAAAAAD7AAAAAAAAAPsA=",
          "dtype": "f8"
         },
         "yaxis": "y"
        },
        {
         "hoverinfo": "text",
         "marker": {
          "color": "rgb(255,65,54)"
         },
         "mode": "lines",
         "type": "scatter",
         "x": {
          "bdata": "AAAAAAAAAACV4QQkflTpP5XhBCR+VOk/AAAAAAAAAAA=",
          "dtype": "f8"
         },
         "xaxis": "x",
         "y": {
          "bdata": "AAAAAACARsAAAAAAAIBGwAAAAAAAgEvAAAAAAACAS8A=",
          "dtype": "f8"
         },
         "yaxis": "y"
        },
        {
         "hoverinfo": "text",
         "marker": {
          "color": "rgb(255,65,54)"
         },
         "mode": "lines",
         "type": "scatter",
         "x": {
          "bdata": "AAAAAAAAAACmDznFzC/iP6YPOcXML+I/AAAAAAAAAAA=",
          "dtype": "f8"
         },
         "xaxis": "x",
         "y": {
          "bdata": "AAAAAABAUMAAAAAAAEBQwAAAAAAAwFLAAAAAAADAUsA=",
          "dtype": "f8"
         },
         "yaxis": "y"
        },
        {
         "hoverinfo": "text",
         "marker": {
          "color": "rgb(255,65,54)"
         },
         "mode": "lines",
         "type": "scatter",
         "x": {
          "bdata": "AAAAAAAAAAC6n2ShIjvgP7qfZKEiO+A/AAAAAAAAAAA=",
          "dtype": "f8"
         },
         "xaxis": "x",
         "y": {
          "bdata": "AAAAAABAVcAAAAAAAEBVwAAAAAAAwFfAAAAAAADAV8A=",
          "dtype": "f8"
         },
         "yaxis": "y"
        },
        {
         "hoverinfo": "text",
         "marker": {
          "color": "rgb(255,65,54)"
         },
         "mode": "lines",
         "type": "scatter",
         "x": {
          "bdata": "up9koSI74D8tOa9/osDjPy05r3+iwOM/AAAAAAAAAAA=",
          "dtype": "f8"
         },
         "xaxis": "x",
         "y": {
          "bdata": "AAAAAACAVsAAAAAAAIBWwAAAAAAAQFrAAAAAAABAWsA=",
          "dtype": "f8"
         },
         "yaxis": "y"
        },
        {
         "hoverinfo": "text",
         "marker": {
          "color": "rgb(255,65,54)"
         },
         "mode": "lines",
         "type": "scatter",
         "x": {
          "bdata": "pg85xcwv4j8sp+gO0fTmPyyn6A7R9OY/LTmvf6LA4z8=",
          "dtype": "f8"
         },
         "xaxis": "x",
         "y": {
          "bdata": "AAAAAACAUcAAAAAAAIBRwAAAAAAAYFjAAAAAAABgWMA=",
          "dtype": "f8"
         },
         "yaxis": "y"
        },
        {
         "hoverinfo": "text",
         "marker": {
          "color": "rgb(255,65,54)"
         },
         "mode": "lines",
         "type": "scatter",
         "x": {
          "bdata": "leEEJH5U6T/2ytvOW/PpP/bK285b8+k/LKfoDtH05j8=",
          "dtype": "f8"
         },
         "xaxis": "x",
         "y": {
          "bdata": "AAAAAAAAScAAAAAAAABJwAAAAAAA8FTAAAAAAADwVMA=",
          "dtype": "f8"
         },
         "yaxis": "y"
        },
        {
         "hoverinfo": "text",
         "marker": {
          "color": "rgb(35,205,205)"
         },
         "mode": "lines",
         "type": "scatter",
         "x": {
          "bdata": "AAAAAAAAAAASecHQaGzePxJ5wdBobN4/AAAAAAAAAAA=",
          "dtype": "f8"
         },
         "xaxis": "x",
         "y": {
          "bdata": "AAAAAADAXMAAAAAAAMBcwAAAAAAAQF/AAAAAAABAX8A=",
          "dtype": "f8"
         },
         "yaxis": "y"
        },
        {
         "hoverinfo": "text",
         "marker": {
          "color": "rgb(35,205,205)"
         },
         "mode": "lines",
         "type": "scatter",
         "x": {
          "bdata": "AAAAAAAAAAD+wCN/xOriP/7AI3/E6uI/AAAAAAAAAAA=",
          "dtype": "f8"
         },
         "xaxis": "x",
         "y": {
          "bdata": "AAAAAADgYMAAAAAAAOBgwAAAAAAAIGLAAAAAAAAgYsA=",
          "dtype": "f8"
         },
         "yaxis": "y"
        },
        {
         "hoverinfo": "text",
         "marker": {
          "color": "rgb(35,205,205)"
         },
         "mode": "lines",
         "type": "scatter",
         "x": {
          "bdata": "EnnB0Ghs3j8VVorJm+3oPxVWismb7eg//sAjf8Tq4j8=",
          "dtype": "f8"
         },
         "xaxis": "x",
         "y": {
          "bdata": "AAAAAAAAXsAAAAAAAABewAAAAAAAgGHAAAAAAACAYcA=",
          "dtype": "f8"
         },
         "yaxis": "y"
        },
        {
         "hoverinfo": "text",
         "marker": {
          "color": "rgb(35,205,205)"
         },
         "mode": "lines",
         "type": "scatter",
         "x": {
          "bdata": "AAAAAAAAAADg+ZkbuzTfP+D5mRu7NN8/AAAAAAAAAAA=",
          "dtype": "f8"
         },
         "xaxis": "x",
         "y": {
          "bdata": "AAAAAABgY8AAAAAAAGBjwAAAAAAAoGTAAAAAAACgZMA=",
          "dtype": "f8"
         },
         "yaxis": "y"
        },
        {
         "hoverinfo": "text",
         "marker": {
          "color": "rgb(35,205,205)"
         },
         "mode": "lines",
         "type": "scatter",
         "x": {
          "bdata": "FVaKyZvt6D8eeJZaF/XtPx54lloX9e0/4PmZG7s03z8=",
          "dtype": "f8"
         },
         "xaxis": "x",
         "y": {
          "bdata": "AAAAAABAYMAAAAAAAEBgwAAAAAAAAGTAAAAAAAAAZMA=",
          "dtype": "f8"
         },
         "yaxis": "y"
        },
        {
         "hoverinfo": "text",
         "marker": {
          "color": "rgb(133,20,75)"
         },
         "mode": "lines",
         "type": "scatter",
         "x": {
          "bdata": "AAAAAAAAAAA3HecbryLkPzcd5xuvIuQ/AAAAAAAAAAA=",
          "dtype": "f8"
         },
         "xaxis": "x",
         "y": {
          "bdata": "AAAAAAAgZ8AAAAAAACBnwAAAAAAAYGjAAAAAAABgaMA=",
          "dtype": "f8"
         },
         "yaxis": "y"
        },
        {
         "hoverinfo": "text",
         "marker": {
          "color": "rgb(133,20,75)"
         },
         "mode": "lines",
         "type": "scatter",
         "x": {
          "bdata": "Nx3nG68i5D+EW0fYWTnrP4RbR9hZOes/AAAAAAAAAAA=",
          "dtype": "f8"
         },
         "xaxis": "x",
         "y": {
          "bdata": "AAAAAADAZ8AAAAAAAMBnwAAAAAAAoGnAAAAAAACgacA=",
          "dtype": "f8"
         },
         "yaxis": "y"
        },
        {
         "hoverinfo": "text",
         "marker": {
          "color": "rgb(133,20,75)"
         },
         "mode": "lines",
         "type": "scatter",
         "x": {
          "bdata": "AAAAAAAAAABPMxYnYdfrP08zFidh1+s/hFtH2Fk56z8=",
          "dtype": "f8"
         },
         "xaxis": "x",
         "y": {
          "bdata": "AAAAAADgZcAAAAAAAOBlwAAAAAAAsGjAAAAAAACwaMA=",
          "dtype": "f8"
         },
         "yaxis": "y"
        },
        {
         "hoverinfo": "text",
         "marker": {
          "color": "rgb(0,116,217)"
         },
         "mode": "lines",
         "type": "scatter",
         "x": {
          "bdata": "HniWWhf17T/ETu+QjhvwP8RO75COG/A/TzMWJ2HX6z8=",
          "dtype": "f8"
         },
         "xaxis": "x",
         "y": {
          "bdata": "AAAAAAAgYsAAAAAAACBiwAAAAAAASGfAAAAAAABIZ8A=",
          "dtype": "f8"
         },
         "yaxis": "y"
        },
        {
         "hoverinfo": "text",
         "marker": {
          "color": "rgb(255,220,0)"
         },
         "mode": "lines",
         "type": "scatter",
         "x": {
          "bdata": "AAAAAAAAAAB8GzQhWPXeP3wbNCFY9d4/AAAAAAAAAAA=",
          "dtype": "f8"
         },
         "xaxis": "x",
         "y": {
          "bdata": "AAAAAAAgbMAAAAAAACBswAAAAAAAYG3AAAAAAABgbcA=",
          "dtype": "f8"
         },
         "yaxis": "y"
        },
        {
         "hoverinfo": "text",
         "marker": {
          "color": "rgb(255,220,0)"
         },
         "mode": "lines",
         "type": "scatter",
         "x": {
          "bdata": "AAAAAAAAAABhNnSLI/3tP2E2dIsj/e0/fBs0IVj13j8=",
          "dtype": "f8"
         },
         "xaxis": "x",
         "y": {
          "bdata": "AAAAAADgasAAAAAAAOBqwAAAAAAAwGzAAAAAAADAbMA=",
          "dtype": "f8"
         },
         "yaxis": "y"
        },
        {
         "hoverinfo": "text",
         "marker": {
          "color": "rgb(0,116,217)"
         },
         "mode": "lines",
         "type": "scatter",
         "x": {
          "bdata": "YTZ0iyP97T8kzg+q4WTwPyTOD6rhZPA/AAAAAAAAAAA=",
          "dtype": "f8"
         },
         "xaxis": "x",
         "y": {
          "bdata": "AAAAAADQa8AAAAAAANBrwAAAAAAAoG7AAAAAAACgbsA=",
          "dtype": "f8"
         },
         "yaxis": "y"
        },
        {
         "hoverinfo": "text",
         "marker": {
          "color": "rgb(0,116,217)"
         },
         "mode": "lines",
         "type": "scatter",
         "x": {
          "bdata": "xE7vkI4b8D+rukuqz9LyP6u6S6rP0vI/JM4PquFk8D8=",
          "dtype": "f8"
         },
         "xaxis": "x",
         "y": {
          "bdata": "AAAAAAC0ZMAAAAAAALRkwAAAAAAAOG3AAAAAAAA4bcA=",
          "dtype": "f8"
         },
         "yaxis": "y"
        },
        {
         "hoverinfo": "text",
         "marker": {
          "color": "rgb(0,116,217)"
         },
         "mode": "lines",
         "type": "scatter",
         "x": {
          "bdata": "9srbzlvz6T9onUU7HrH1P2idRTsesfU/q7pLqs/S8j8=",
          "dtype": "f8"
         },
         "xaxis": "x",
         "y": {
          "bdata": "AAAAAAC4UMAAAAAAALhQwAAAAAAA9mjAAAAAAAD2aMA=",
          "dtype": "f8"
         },
         "yaxis": "y"
        },
        {
         "hoverinfo": "text",
         "marker": {
          "color": "rgb(0,116,217)"
         },
         "mode": "lines",
         "type": "scatter",
         "x": {
          "bdata": "gB6LiADR6T8Ymc2YCzj2PxiZzZgLOPY/aJ1FOx6x9T8=",
          "dtype": "f8"
         },
         "xaxis": "x",
         "y": {
          "bdata": "AAAAAAAANMAAAAAAAAA0wAAAAAAAqWDAAAAAAACpYMA=",
          "dtype": "f8"
         },
         "yaxis": "y"
        }
       ],
       "layout": {
        "autosize": false,
        "height": 575,
        "hoverlabel": {
         "bgcolor": "white",
         "font": {
          "family": "Rockwell",
          "size": 16
         }
        },
        "hovermode": "closest",
        "plot_bgcolor": "#ECEFF1",
        "showlegend": false,
        "template": {
         "data": {
          "bar": [
           {
            "error_x": {
             "color": "#2a3f5f"
            },
            "error_y": {
             "color": "#2a3f5f"
            },
            "marker": {
             "line": {
              "color": "white",
              "width": 0.5
             },
             "pattern": {
              "fillmode": "overlay",
              "size": 10,
              "solidity": 0.2
             }
            },
            "type": "bar"
           }
          ],
          "barpolar": [
           {
            "marker": {
             "line": {
              "color": "white",
              "width": 0.5
             },
             "pattern": {
              "fillmode": "overlay",
              "size": 10,
              "solidity": 0.2
             }
            },
            "type": "barpolar"
           }
          ],
          "carpet": [
           {
            "aaxis": {
             "endlinecolor": "#2a3f5f",
             "gridcolor": "#C8D4E3",
             "linecolor": "#C8D4E3",
             "minorgridcolor": "#C8D4E3",
             "startlinecolor": "#2a3f5f"
            },
            "baxis": {
             "endlinecolor": "#2a3f5f",
             "gridcolor": "#C8D4E3",
             "linecolor": "#C8D4E3",
             "minorgridcolor": "#C8D4E3",
             "startlinecolor": "#2a3f5f"
            },
            "type": "carpet"
           }
          ],
          "choropleth": [
           {
            "colorbar": {
             "outlinewidth": 0,
             "ticks": ""
            },
            "type": "choropleth"
           }
          ],
          "contour": [
           {
            "colorbar": {
             "outlinewidth": 0,
             "ticks": ""
            },
            "colorscale": [
             [
              0,
              "#0d0887"
             ],
             [
              0.1111111111111111,
              "#46039f"
             ],
             [
              0.2222222222222222,
              "#7201a8"
             ],
             [
              0.3333333333333333,
              "#9c179e"
             ],
             [
              0.4444444444444444,
              "#bd3786"
             ],
             [
              0.5555555555555556,
              "#d8576b"
             ],
             [
              0.6666666666666666,
              "#ed7953"
             ],
             [
              0.7777777777777778,
              "#fb9f3a"
             ],
             [
              0.8888888888888888,
              "#fdca26"
             ],
             [
              1,
              "#f0f921"
             ]
            ],
            "type": "contour"
           }
          ],
          "contourcarpet": [
           {
            "colorbar": {
             "outlinewidth": 0,
             "ticks": ""
            },
            "type": "contourcarpet"
           }
          ],
          "heatmap": [
           {
            "colorbar": {
             "outlinewidth": 0,
             "ticks": ""
            },
            "colorscale": [
             [
              0,
              "#0d0887"
             ],
             [
              0.1111111111111111,
              "#46039f"
             ],
             [
              0.2222222222222222,
              "#7201a8"
             ],
             [
              0.3333333333333333,
              "#9c179e"
             ],
             [
              0.4444444444444444,
              "#bd3786"
             ],
             [
              0.5555555555555556,
              "#d8576b"
             ],
             [
              0.6666666666666666,
              "#ed7953"
             ],
             [
              0.7777777777777778,
              "#fb9f3a"
             ],
             [
              0.8888888888888888,
              "#fdca26"
             ],
             [
              1,
              "#f0f921"
             ]
            ],
            "type": "heatmap"
           }
          ],
          "histogram": [
           {
            "marker": {
             "pattern": {
              "fillmode": "overlay",
              "size": 10,
              "solidity": 0.2
             }
            },
            "type": "histogram"
           }
          ],
          "histogram2d": [
           {
            "colorbar": {
             "outlinewidth": 0,
             "ticks": ""
            },
            "colorscale": [
             [
              0,
              "#0d0887"
             ],
             [
              0.1111111111111111,
              "#46039f"
             ],
             [
              0.2222222222222222,
              "#7201a8"
             ],
             [
              0.3333333333333333,
              "#9c179e"
             ],
             [
              0.4444444444444444,
              "#bd3786"
             ],
             [
              0.5555555555555556,
              "#d8576b"
             ],
             [
              0.6666666666666666,
              "#ed7953"
             ],
             [
              0.7777777777777778,
              "#fb9f3a"
             ],
             [
              0.8888888888888888,
              "#fdca26"
             ],
             [
              1,
              "#f0f921"
             ]
            ],
            "type": "histogram2d"
           }
          ],
          "histogram2dcontour": [
           {
            "colorbar": {
             "outlinewidth": 0,
             "ticks": ""
            },
            "colorscale": [
             [
              0,
              "#0d0887"
             ],
             [
              0.1111111111111111,
              "#46039f"
             ],
             [
              0.2222222222222222,
              "#7201a8"
             ],
             [
              0.3333333333333333,
              "#9c179e"
             ],
             [
              0.4444444444444444,
              "#bd3786"
             ],
             [
              0.5555555555555556,
              "#d8576b"
             ],
             [
              0.6666666666666666,
              "#ed7953"
             ],
             [
              0.7777777777777778,
              "#fb9f3a"
             ],
             [
              0.8888888888888888,
              "#fdca26"
             ],
             [
              1,
              "#f0f921"
             ]
            ],
            "type": "histogram2dcontour"
           }
          ],
          "mesh3d": [
           {
            "colorbar": {
             "outlinewidth": 0,
             "ticks": ""
            },
            "type": "mesh3d"
           }
          ],
          "parcoords": [
           {
            "line": {
             "colorbar": {
              "outlinewidth": 0,
              "ticks": ""
             }
            },
            "type": "parcoords"
           }
          ],
          "pie": [
           {
            "automargin": true,
            "type": "pie"
           }
          ],
          "scatter": [
           {
            "fillpattern": {
             "fillmode": "overlay",
             "size": 10,
             "solidity": 0.2
            },
            "type": "scatter"
           }
          ],
          "scatter3d": [
           {
            "line": {
             "colorbar": {
              "outlinewidth": 0,
              "ticks": ""
             }
            },
            "marker": {
             "colorbar": {
              "outlinewidth": 0,
              "ticks": ""
             }
            },
            "type": "scatter3d"
           }
          ],
          "scattercarpet": [
           {
            "marker": {
             "colorbar": {
              "outlinewidth": 0,
              "ticks": ""
             }
            },
            "type": "scattercarpet"
           }
          ],
          "scattergeo": [
           {
            "marker": {
             "colorbar": {
              "outlinewidth": 0,
              "ticks": ""
             }
            },
            "type": "scattergeo"
           }
          ],
          "scattergl": [
           {
            "marker": {
             "colorbar": {
              "outlinewidth": 0,
              "ticks": ""
             }
            },
            "type": "scattergl"
           }
          ],
          "scattermap": [
           {
            "marker": {
             "colorbar": {
              "outlinewidth": 0,
              "ticks": ""
             }
            },
            "type": "scattermap"
           }
          ],
          "scattermapbox": [
           {
            "marker": {
             "colorbar": {
              "outlinewidth": 0,
              "ticks": ""
             }
            },
            "type": "scattermapbox"
           }
          ],
          "scatterpolar": [
           {
            "marker": {
             "colorbar": {
              "outlinewidth": 0,
              "ticks": ""
             }
            },
            "type": "scatterpolar"
           }
          ],
          "scatterpolargl": [
           {
            "marker": {
             "colorbar": {
              "outlinewidth": 0,
              "ticks": ""
             }
            },
            "type": "scatterpolargl"
           }
          ],
          "scatterternary": [
           {
            "marker": {
             "colorbar": {
              "outlinewidth": 0,
              "ticks": ""
             }
            },
            "type": "scatterternary"
           }
          ],
          "surface": [
           {
            "colorbar": {
             "outlinewidth": 0,
             "ticks": ""
            },
            "colorscale": [
             [
              0,
              "#0d0887"
             ],
             [
              0.1111111111111111,
              "#46039f"
             ],
             [
              0.2222222222222222,
              "#7201a8"
             ],
             [
              0.3333333333333333,
              "#9c179e"
             ],
             [
              0.4444444444444444,
              "#bd3786"
             ],
             [
              0.5555555555555556,
              "#d8576b"
             ],
             [
              0.6666666666666666,
              "#ed7953"
             ],
             [
              0.7777777777777778,
              "#fb9f3a"
             ],
             [
              0.8888888888888888,
              "#fdca26"
             ],
             [
              1,
              "#f0f921"
             ]
            ],
            "type": "surface"
           }
          ],
          "table": [
           {
            "cells": {
             "fill": {
              "color": "#EBF0F8"
             },
             "line": {
              "color": "white"
             }
            },
            "header": {
             "fill": {
              "color": "#C8D4E3"
             },
             "line": {
              "color": "white"
             }
            },
            "type": "table"
           }
          ]
         },
         "layout": {
          "annotationdefaults": {
           "arrowcolor": "#2a3f5f",
           "arrowhead": 0,
           "arrowwidth": 1
          },
          "autotypenumbers": "strict",
          "coloraxis": {
           "colorbar": {
            "outlinewidth": 0,
            "ticks": ""
           }
          },
          "colorscale": {
           "diverging": [
            [
             0,
             "#8e0152"
            ],
            [
             0.1,
             "#c51b7d"
            ],
            [
             0.2,
             "#de77ae"
            ],
            [
             0.3,
             "#f1b6da"
            ],
            [
             0.4,
             "#fde0ef"
            ],
            [
             0.5,
             "#f7f7f7"
            ],
            [
             0.6,
             "#e6f5d0"
            ],
            [
             0.7,
             "#b8e186"
            ],
            [
             0.8,
             "#7fbc41"
            ],
            [
             0.9,
             "#4d9221"
            ],
            [
             1,
             "#276419"
            ]
           ],
           "sequential": [
            [
             0,
             "#0d0887"
            ],
            [
             0.1111111111111111,
             "#46039f"
            ],
            [
             0.2222222222222222,
             "#7201a8"
            ],
            [
             0.3333333333333333,
             "#9c179e"
            ],
            [
             0.4444444444444444,
             "#bd3786"
            ],
            [
             0.5555555555555556,
             "#d8576b"
            ],
            [
             0.6666666666666666,
             "#ed7953"
            ],
            [
             0.7777777777777778,
             "#fb9f3a"
            ],
            [
             0.8888888888888888,
             "#fdca26"
            ],
            [
             1,
             "#f0f921"
            ]
           ],
           "sequentialminus": [
            [
             0,
             "#0d0887"
            ],
            [
             0.1111111111111111,
             "#46039f"
            ],
            [
             0.2222222222222222,
             "#7201a8"
            ],
            [
             0.3333333333333333,
             "#9c179e"
            ],
            [
             0.4444444444444444,
             "#bd3786"
            ],
            [
             0.5555555555555556,
             "#d8576b"
            ],
            [
             0.6666666666666666,
             "#ed7953"
            ],
            [
             0.7777777777777778,
             "#fb9f3a"
            ],
            [
             0.8888888888888888,
             "#fdca26"
            ],
            [
             1,
             "#f0f921"
            ]
           ]
          },
          "colorway": [
           "#636efa",
           "#EF553B",
           "#00cc96",
           "#ab63fa",
           "#FFA15A",
           "#19d3f3",
           "#FF6692",
           "#B6E880",
           "#FF97FF",
           "#FECB52"
          ],
          "font": {
           "color": "#2a3f5f"
          },
          "geo": {
           "bgcolor": "white",
           "lakecolor": "white",
           "landcolor": "white",
           "showlakes": true,
           "showland": true,
           "subunitcolor": "#C8D4E3"
          },
          "hoverlabel": {
           "align": "left"
          },
          "hovermode": "closest",
          "mapbox": {
           "style": "light"
          },
          "paper_bgcolor": "white",
          "plot_bgcolor": "white",
          "polar": {
           "angularaxis": {
            "gridcolor": "#EBF0F8",
            "linecolor": "#EBF0F8",
            "ticks": ""
           },
           "bgcolor": "white",
           "radialaxis": {
            "gridcolor": "#EBF0F8",
            "linecolor": "#EBF0F8",
            "ticks": ""
           }
          },
          "scene": {
           "xaxis": {
            "backgroundcolor": "white",
            "gridcolor": "#DFE8F3",
            "gridwidth": 2,
            "linecolor": "#EBF0F8",
            "showbackground": true,
            "ticks": "",
            "zerolinecolor": "#EBF0F8"
           },
           "yaxis": {
            "backgroundcolor": "white",
            "gridcolor": "#DFE8F3",
            "gridwidth": 2,
            "linecolor": "#EBF0F8",
            "showbackground": true,
            "ticks": "",
            "zerolinecolor": "#EBF0F8"
           },
           "zaxis": {
            "backgroundcolor": "white",
            "gridcolor": "#DFE8F3",
            "gridwidth": 2,
            "linecolor": "#EBF0F8",
            "showbackground": true,
            "ticks": "",
            "zerolinecolor": "#EBF0F8"
           }
          },
          "shapedefaults": {
           "line": {
            "color": "#2a3f5f"
           }
          },
          "ternary": {
           "aaxis": {
            "gridcolor": "#DFE8F3",
            "linecolor": "#A2B1C6",
            "ticks": ""
           },
           "baxis": {
            "gridcolor": "#DFE8F3",
            "linecolor": "#A2B1C6",
            "ticks": ""
           },
           "bgcolor": "white",
           "caxis": {
            "gridcolor": "#DFE8F3",
            "linecolor": "#A2B1C6",
            "ticks": ""
           }
          },
          "title": {
           "x": 0.05
          },
          "xaxis": {
           "automargin": true,
           "gridcolor": "#EBF0F8",
           "linecolor": "#EBF0F8",
           "ticks": "",
           "title": {
            "standoff": 15
           },
           "zerolinecolor": "#EBF0F8",
           "zerolinewidth": 2
          },
          "yaxis": {
           "automargin": true,
           "gridcolor": "#EBF0F8",
           "linecolor": "#EBF0F8",
           "ticks": "",
           "title": {
            "standoff": 15
           },
           "zerolinecolor": "#EBF0F8",
           "zerolinewidth": 2
          }
         }
        },
        "title": {
         "font": {
          "color": "Black",
          "size": 22
         },
         "text": "<b>Hierarchical Clustering</b>",
         "x": 0.5,
         "xanchor": "center",
         "yanchor": "top"
        },
        "width": 1000,
        "xaxis": {
         "mirror": "allticks",
         "rangemode": "tozero",
         "showgrid": false,
         "showline": true,
         "showticklabels": true,
         "ticks": "outside",
         "type": "linear",
         "zeroline": false
        },
        "yaxis": {
         "mirror": "allticks",
         "range": [
          -250,
          0
         ],
         "rangemode": "tozero",
         "showgrid": false,
         "showline": true,
         "showticklabels": true,
         "tickmode": "array",
         "ticks": "outside",
         "ticktext": [
          "1_journal_arxiv_and",
          "6_arxiv_neural_and",
          "10_association_arxiv_lingui...",
          "4_https_url_org",
          "9_findings_experimental_setup",
          "18_1020_math_table",
          "20_judge_bench_thai",
          "22_thai_language_on",
          "23_math_context_performance",
          "5_dataset_thai_to",
          "17_model_70b_al",
          "12_finreal_finsing_functor",
          "3_fuzzy_set_sets",
          "8_the_vij_pij",
          "14_umap_in_of",
          "2_matrix_the_is",
          "13_equation_xˆvi_matrix",
          "0_state_finite_39",
          "24_tokenizer_tokens_the",
          "7_attention_layer_the",
          "19_agentic_content_agent",
          "16_policy_topic_trade",
          "11_topic_modeling_topics",
          "21_cluster_words_each",
          "15_014_013_015"
         ],
         "tickvals": [
          -5,
          -15,
          -25,
          -35,
          -45,
          -55,
          -65,
          -75,
          -85,
          -95,
          -105,
          -115,
          -125,
          -135,
          -145,
          -155,
          -165,
          -175,
          -185,
          -195,
          -205,
          -215,
          -225,
          -235,
          -245
         ],
         "type": "linear",
         "zeroline": false
        }
       }
      }
     },
     "metadata": {},
     "output_type": "display_data"
    }
   ],
   "source": [
    "topic_model.visualize_hierarchy()"
   ]
  },
  {
   "cell_type": "code",
   "execution_count": 295,
   "id": "146e6fde",
   "metadata": {},
   "outputs": [
    {
     "data": {
      "text/plain": [
       "(277, 277, 277, 24)"
      ]
     },
     "execution_count": 295,
     "metadata": {},
     "output_type": "execute_result"
    }
   ],
   "source": [
    "len(embeddings), len(chunk_texts), len(chunk_topics), len(hierarchical_topics)"
   ]
  },
  {
   "cell_type": "code",
   "execution_count": 296,
   "id": "95f5b415",
   "metadata": {},
   "outputs": [
    {
     "data": {
      "application/vnd.plotly.v1+json": {
       "config": {
        "plotlyServerURL": "https://plot.ly"
       },
       "data": [
        {
         "hovertext": "<b>Topic -1</b>:the_of_and_to_in_for_is_data_we_on",
         "line": {
          "color": "black",
          "width": 1.5
         },
         "mode": "lines+lines",
         "name": "",
         "opacity": 0.1,
         "type": "scatter",
         "x": {
          "bdata": "AQAAAAIAAAADAAAABAAAAAUAAAAGAAAABwAAAAgAAAAJAAAACgAAAAsAAAAMAAAADQAAAA4AAAAPAAAAEAAAABEAAAASAAAAEwAAABQAAAAVAAAAFgAAABcAAAAYAAAAGQAAABoAAAAbAAAAHAAAAB0AAAAeAAAAHwAAACAAAAAhAAAAIgAAACMAAAAkAAAAJQAAACYAAAAnAAAAKAAAACkAAAAqAAAAKwAAACwAAAAtAAAALgAAAC8AAAAwAAAAMQAAADIAAAA=",
          "dtype": "i4"
         },
         "y": {
          "bdata": "dxjTa+TNmT/KYJUW50WXP4A2VbOZj5Y/QERc9DYslD9SdK3iRp6TP9dowRS64JE/0Mu/X3QOkT8My6ZwYLeQP9sFkrobxI8/RUCMF6+LjD8rs6phNHSLP4iq505A4Yo/H/JzfxDbij+5MuxNREqKP2Cw80ToaYg/K8gQszephz/tfZOiL+aFP7WMQ4bQq4U/1a+NcZmMhT+1wEq25H6FP+z4s4Gr24Q/roDcfKCshD+LhVnrJZCEP7a/aUt6+oM/ymMEZQZOgj81CUFZs9OBP8DBYoADxYE/3mdibx1pgT+wIsMclkqBP2t1gyspIYE/AItTq3MAgT+UrzQs5WuAPxNx6dx4YYA/pZDJswmifz8d0DHceTJ/PxXS9UTYzX0/AUkxhbQefT/rrcUk7Jt8PzG09C4sgXw/EO6SUH4jfD+BFmu936x7P5A5S9bqaXs/Oj39A19Oez8On1v9Hhl7P6S7Ur44cno/4Z59ANI6ej+tpbuZUzV6P/gFKDIeMno/t5OwuW4hej9QyoyzFLd5Pw==",
          "dtype": "f8"
         }
        },
        {
         "hovertext": "<b>Topic 0</b>:state_finite_39_𝑠0_grammar_input_ce",
         "line": {
          "color": "black",
          "width": 1.5
         },
         "mode": "lines+lines",
         "name": "",
         "opacity": 0.1,
         "type": "scatter",
         "x": {
          "bdata": "AQAAAAIAAAADAAAABAAAAAUAAAAGAAAABwAAAAgAAAAJAAAACgAAAAsAAAAMAAAADQAAAA4AAAAPAAAAEAAAABEAAAASAAAAEwAAABQAAAAVAAAAFgAAABcAAAAYAAAAGQAAABoAAAAbAAAAHAAAAB0AAAAeAAAAHwAAACAAAAAhAAAAIgAAACMAAAAkAAAAJQAAACYAAAAnAAAAKAAAACkAAAAqAAAAKwAAACwAAAAtAAAALgAAAC8AAAAwAAAAMQAAADIAAAA=",
          "dtype": "i4"
         },
         "y": {
          "bdata": "QjA6L0pQvz/LBWVeaQe1P69xUD9B5rE/itQY888Crz/El9LFOZSsP/td/QUZLqo/UPjFihs+qT8S6V/9IeqnP6IqfUk2NKc/RoJZiLG4pT8PmAx6LpWlP0mCiVJw8KQ/3mjXnc8Poj9NwfUYYAGhP44GzBKCe6A/Bm+nArxmoD9No8KHNvqfP8c0DaMVvJ8/aree8yFEnz/fDpe5/BOeP98Ol7n8E54/3w6XufwTnj9MhSxabGmdP7QPy8/7XJ0/Qfa2ehMFnT/CmsfL2kmbP3Gb291uvJo/dU3EQySHmj/lrYhSZF+ZP96mAzv+AJk/NYlXQn6qmD9Ygecd92yYP2i0QP5hiJc/Nfj625T/lj8zalWYK5KWP46pe8Ki3ZU/D5gMei6VlT9ysH7qA4WVPy7fLR+bepU/Lt8tH5t6lT8u3y0fm3qVPy7fLR+bepU/Lt8tH5t6lT8u3y0fm3qVP7klND6v75Q/uSU0Pq/vlD+5JTQ+r++UP+9zgQdO4pQ/EbTVGGR3lD/AXX91+VaUPw==",
          "dtype": "f8"
         }
        },
        {
         "hovertext": "<b>Topic 1</b>:journal_arxiv_and_learning_in_pp_re",
         "line": {
          "color": "black",
          "width": 1.5
         },
         "mode": "lines+lines",
         "name": "",
         "opacity": 0.1,
         "type": "scatter",
         "x": {
          "bdata": "AQAAAAIAAAADAAAABAAAAAUAAAAGAAAABwAAAAgAAAAJAAAACgAAAAsAAAAMAAAADQAAAA4AAAAPAAAAEAAAABEAAAASAAAAEwAAABQAAAAVAAAAFgAAABcAAAAYAAAAGQAAABoAAAAbAAAAHAAAAB0AAAAeAAAAHwAAACAAAAAhAAAAIgAAACMAAAAkAAAAJQAAACYAAAAnAAAAKAAAACkAAAAqAAAAKwAAACwAAAAtAAAALgAAAC8AAAAwAAAAMQAAADIAAAA=",
          "dtype": "i4"
         },
         "y": {
          "bdata": "WObgFD0zoT/MAqMzMwmhPz75e8LptZw/hJGSBPqunD+n06WHRi2ZP0FxkECJ5Zg/gd+yb01cmD/0zfG8pyWYP1FN6vrcv5c/BnV8MQZJlz/p7adygJ2WP2damcVPiZQ/+bdzA7n5kz/P3uymXECTP1UO4QIaO5M/Hr9MOf4Akj/NI9qVmdKRP35NOmBEmpE/Zd6Uf3ZlkT+7d2a5cE2RP9ytfztLPJE/PdFoUM9wkD8TYbc9SPOPPzNnZh7HyI8/M2dmHsfIjz8zZ2Yex8iPPxfNz1OJsY4/F83PU4mxjj8Xzc9TibGOPxwfF0+7LI4/omsnZXfNjT88hfqJtQyNP7lwQZ8LU4w/5Ru1Xxrgiz/lG7VfGuCLP7167vig0os/hmWV47G5iz8EwUk1XieKP0AQ/DZc34k/aX7mMyariT9ow9LvtQSJPz3Iepuw5Ig/Pch6m7DkiD89yHqbsOSIPz3Iepuw5Ig/Pch6m7DkiD89yHqbsOSIPz3Iepuw5Ig/eUVNLwNyiD9nzcxWldaHPw==",
          "dtype": "f8"
         }
        },
        {
         "hovertext": "<b>Topic 2</b>:matrix_the_is_of_covariance_eigenve",
         "line": {
          "color": "black",
          "width": 1.5
         },
         "mode": "lines+lines",
         "name": "",
         "opacity": 0.1,
         "type": "scatter",
         "x": {
          "bdata": "AQAAAAIAAAADAAAABAAAAAUAAAAGAAAABwAAAAgAAAAJAAAACgAAAAsAAAAMAAAADQAAAA4AAAAPAAAAEAAAABEAAAASAAAAEwAAABQAAAAVAAAAFgAAABcAAAAYAAAAGQAAABoAAAAbAAAAHAAAAB0AAAAeAAAAHwAAACAAAAAhAAAAIgAAACMAAAAkAAAAJQAAACYAAAAnAAAAKAAAACkAAAAqAAAAKwAAACwAAAAtAAAALgAAAC8AAAAwAAAAMQAAADIAAAA=",
          "dtype": "i4"
         },
         "y": {
          "bdata": "/1Vl77MHtD9izhb0NfuoP00Eo6IHe6U/GBblkGnnpD/A2pFfDdiiP8DakV8N2KI/JJ1FqRHEoT8ApnZYkEKhP9tzpqQ/2qA/jzAqXhAwoD/pluHibfufP9Vez/mn7p8/NsRwtS9+nD9oNs/6XGmcP40aPwKr9Zo/T5UeMHM6mj9VEk6C8ZWZP7GYh2d1cpk/4FACg4W+mD9N6XN+VAyYPz4RsoiBqpc/HxSAmffOlj9GqVHbfb+WP44vV2bqopU/8rnrQUlSlT+6MF5+mfyUP0W1AxyNxZM/Ncxy5BxHkz8Q3wBYEOmSP/rVGuKkp5I/745+gCJpkj/vjn6AImmSP9UHS3khq5E/PQZfifWGkT8ol9YfL3SRPwMQ0WlAQ5E/sW7T7FnakD91FOAU98yQP3a3dd3Pd5A/O3vXRbBSkD87e9dFsFKQP+SYNOeWPpA/5Jg055Y+kD/kmDTnlj6QP+SYNOeWPpA/uWqwwpnZjT84xrg3/LuNP4yi/0idi4w/pn8KqbhcjD+YFT8oLOKLPw==",
          "dtype": "f8"
         }
        },
        {
         "hovertext": "<b>Topic 3</b>:fuzzy_set_sets_xi_the_metric_of_to_",
         "line": {
          "color": "black",
          "width": 1.5
         },
         "mode": "lines+lines",
         "name": "",
         "opacity": 0.1,
         "type": "scatter",
         "x": {
          "bdata": "AQAAAAIAAAADAAAABAAAAAUAAAAGAAAABwAAAAgAAAAJAAAACgAAAAsAAAAMAAAADQAAAA4AAAAPAAAAEAAAABEAAAASAAAAEwAAABQAAAAVAAAAFgAAABcAAAAYAAAAGQAAABoAAAAbAAAAHAAAAB0AAAAeAAAAHwAAACAAAAAhAAAAIgAAACMAAAAkAAAAJQAAACYAAAAnAAAAKAAAACkAAAAqAAAAKwAAACwAAAAtAAAALgAAAC8AAAAwAAAAMQAAADIAAAA=",
          "dtype": "i4"
         },
         "y": {
          "bdata": "QIpuh0i+tz9jfASd8sCsP8Xh0di+TKg/PgTeXij+pj/hWoOfQJmmP79sNjPQKaU/pWiw2TWhpD+I05wQ9HSjPyw/DKWn66I/TvneG+38nT927X+Ftb+cP/GIVpN2nZw/wl6Sd3thnD93PTldi2CcP3qfh6MPTJw/8xQ9xScjnD8XGcxarwScP75wzpRtrps/kOh5SZnDmT+5649WwJiYP+1aEBgCYJg/6uTHi4ErmD/Xg1GCR2OWP9IYCVX/VZY/OQ515CQXlj+8QbPyWlaVP1AZUtTaHZQ/zUPShm0PlD9AFlcWcpmTP+pCQiTJSJM/BwdulxgVkz/Y7ZxHIsqSP47YHBUmvpI/+2ZN5Dd5kj+/4N4x12SSPwo2y5aqPZI/O4Llasn0kT8m1sd5H5qRPzMA2FLbhpE/MwDYUtuGkT/By25bBiyRP8HLblsGLJE/3tvLMLUqkT/16cn0Hb2QP6vKV6tbkZA/IpIs5/1zkD8qOsbgtw6QP+GF4RVQr48/CNkDLt3hjj8NNfGDJX+MPw==",
          "dtype": "f8"
         }
        },
        {
         "hovertext": "<b>Topic 4</b>:https_url_org_2024_arxiv_abs_and_li",
         "line": {
          "color": "black",
          "width": 1.5
         },
         "mode": "lines+lines",
         "name": "",
         "opacity": 0.1,
         "type": "scatter",
         "x": {
          "bdata": "AQAAAAIAAAADAAAABAAAAAUAAAAGAAAABwAAAAgAAAAJAAAACgAAAAsAAAAMAAAADQAAAA4AAAAPAAAAEAAAABEAAAASAAAAEwAAABQAAAAVAAAAFgAAABcAAAAYAAAAGQAAABoAAAAbAAAAHAAAAB0AAAAeAAAAHwAAACAAAAAhAAAAIgAAACMAAAAkAAAAJQAAACYAAAAnAAAAKAAAACkAAAAqAAAAKwAAACwAAAAtAAAALgAAAC8AAAAwAAAAMQAAADIAAAA=",
          "dtype": "i4"
         },
         "y": {
          "bdata": "8g9T2XKMqz9RGgozCYSpP8AYdXqDzqU/NhyvdGUBoj+Y18ioQpihP0m0AvSpXaE/GRegAAy9mz+bxpnIgSSZP1jYnPHL1pQ/QOBjPv3Ukz8yFDhOFheTPzQ5WxVgcZI/6D1cnR1tkj/gacS+0CSSP7TRzlN+3JE/azb10kaKkD8mWXf0kE+QP0f1SHqNWY8/ijN238Y3jz89wLJLArKOP3FWZFqgm44/cVZkWqCbjj93HUAQaUKOP4RHLyxo6Y0/bpBB3JBhjT94fAn7gTONP+xaFuKIo4w/PjojtHEpjD+W1kkT/P6LP3i97rfXdoo/WouvU90Dij999/NsPKmJP+oRrnmrmok/+dC3MChbiT99GZO3sL+IPwUDa6Mhqog/BQNroyGqiD+cfCECghmIPy3rLpjwr4c/RN/CPjyYhz+M9gjlRoCHP4z2COVGgIc/fEF9oIlkhj9TLDGlLAmGP1MsMaUsCYY/UywxpSwJhj+sSkdi2KuFP/l2kHNxVYU/wEYgRv0OhT/xYHcOPf+EPw==",
          "dtype": "f8"
         }
        },
        {
         "hovertext": "<b>Topic 5</b>:dataset_thai_to_the_quality_we_et_a",
         "line": {
          "color": "black",
          "width": 1.5
         },
         "mode": "lines+lines",
         "name": "",
         "opacity": 0.1,
         "type": "scatter",
         "x": {
          "bdata": "AQAAAAIAAAADAAAABAAAAAUAAAAGAAAABwAAAAgAAAAJAAAACgAAAAsAAAAMAAAADQAAAA4AAAAPAAAAEAAAABEAAAASAAAAEwAAABQAAAAVAAAAFgAAABcAAAAYAAAAGQAAABoAAAAbAAAAHAAAAB0AAAAeAAAAHwAAACAAAAAhAAAAIgAAACMAAAAkAAAAJQAAACYAAAAnAAAAKAAAACkAAAAqAAAAKwAAACwAAAAtAAAALgAAAC8AAAAwAAAAMQAAADIAAAA=",
          "dtype": "i4"
         },
         "y": {
          "bdata": "iHVWaH5tqD9G5bVWw9GkP+HRyxAxraE/iyKudndRoD8D626zdp2eP+lcdrhRkp4/vuzNQeAgnD9TfZmZ6KWbP30Qyp1SkZs/64XsXF92mD/HGOQ8ewqYP+W4HTYf4Zc/qloNKPATlj8oYHpxYEOVP0rep4WyJ5M/+Ml/KWJDkj+TEw4Bl/KRP/iOllXcuJE/ldqLU5ZikT+AYO0hI1eRP/8UG6cbOpE/QfaG1VQ5kT9gYWuCuySRP7ucFaw8qpA/aW71/0FxkD+pMNnIZD2QP/PQvBv9OpA/XbbswQ35jz/To5X6pMCPP42bPgYnmo8/3sMEnbTejj8U7v5SdqmOP2NonzFcvY0/NKJCnK9hjT+l9FhAltaMP/UCCGdIuYw/Wo1BqYxQjD9Ui8IbLvKLPzsQZu+mgos/74HBQ/lHiz99TBDFV9+KPzl31zRWOoo//9XnSP0iij+tFCvJhciJP4WRx+tTpIk/Cu/6hTRfiT+2zrQ7blaJP0FcvzZaNYk/be/ksicriT9C54Su/AWJPw==",
          "dtype": "f8"
         }
        },
        {
         "hovertext": "<b>Topic 6</b>:arxiv_neural_and_preprint_2016_lear",
         "line": {
          "color": "black",
          "width": 1.5
         },
         "mode": "lines+lines",
         "name": "",
         "opacity": 0.1,
         "type": "scatter",
         "x": {
          "bdata": "AQAAAAIAAAADAAAABAAAAAUAAAAGAAAABwAAAAgAAAAJAAAACgAAAAsAAAAMAAAADQAAAA4AAAAPAAAAEAAAABEAAAASAAAAEwAAABQAAAAVAAAAFgAAABcAAAAYAAAAGQAAABoAAAAbAAAAHAAAAB0AAAAeAAAAHwAAACAAAAAhAAAAIgAAACMAAAAkAAAAJQAAACYAAAAnAAAAKAAAACkAAAAqAAAAKwAAACwAAAAtAAAALgAAAC8AAAAwAAAAMQAAADIAAAA=",
          "dtype": "i4"
         },
         "y": {
          "bdata": "Cz0GMop+qT/dcF6NEjSoP8vWF//fOqU/FtAnFdWAoT+AaIxpSG2gP+zp7yL7Z5w/1JCs78tUmz/0e5m3oGCaP/giVq0H45g/aG4VCsdnmD9obhUKx2eYPw+NAjBGapc/YwalEgHxlT/nQTs6EV6VP83Jopb9qJQ/3KS2Raivkz/6jCbcPluTP75TCHCiSZM/vlMIcKJJkz+PqiGDXyCTP/QFYcpUy5E/MQoFKD+7kT8ARFXK/V2RPxpOz4ydSpE/wtb4ThcVkD908AYIshKQP/syWzum3I8/fELrJViNjz/jPcQTKeuOP+wJ9/s3qI0/RBrwSOZEjT8PF4fccLKMP4NDO3PLXow/J+o+Larwiz8SDdnI/IuLPxIN2cj8i4s/Eg3ZyPyLiz/VWD8FzmCLP1clbZn5HYs/DWk98tHZij8NaT3y0dmKPw1pPfLR2Yo/Qk0RY2Ksij//5X+v/AyKP1QaC0CDt4k/VBoLQIO3iT9UGgtAg7eJP4JpJgPiz4g/v1V68QeuiD9TFJlFN56IPw==",
          "dtype": "f8"
         }
        },
        {
         "hovertext": "<b>Topic 7</b>:attention_layer_the_layers_sequence",
         "line": {
          "color": "black",
          "width": 1.5
         },
         "mode": "lines+lines",
         "name": "",
         "opacity": 0.1,
         "type": "scatter",
         "x": {
          "bdata": "AQAAAAIAAAADAAAABAAAAAUAAAAGAAAABwAAAAgAAAAJAAAACgAAAAsAAAAMAAAADQAAAA4AAAAPAAAAEAAAABEAAAASAAAAEwAAABQAAAAVAAAAFgAAABcAAAAYAAAAGQAAABoAAAAbAAAAHAAAAB0AAAAeAAAAHwAAACAAAAAhAAAAIgAAACMAAAAkAAAAJQAAACYAAAAnAAAAKAAAACkAAAAqAAAAKwAAACwAAAAtAAAALgAAAC8AAAAwAAAAMQAAADIAAAA=",
          "dtype": "i4"
         },
         "y": {
          "bdata": "uBUNNkiesT8Gmaezd7WpP0J4b/hFa6c/I1ZPRhG+pj8T2rJozXKmP/JoN8t546U/MpuMrcfmoj/VShHt+ZSiP1YU9N8GgqI/MER71tg/oj8uL48xOpihP7cwIKruzKA/CYZPzKhwoD955oXoZwybP2MZIQjf2Zo/7VJWgLF+mj/NnjEHRBeZP0X5I4mdCJk/s7guOsJ0lj+WC+3PgSGVP2X6nUeD3JQ/1E6ZUoi/lD/tNBb+23SUP5H/Sad+ipM/KT/gn/v/kj8OWlgAHoKSPzgb744Tf5I/m5SX3rJCkj8VJHZhdu6RP/RtOxatLJE/3dvYJ8+hkD+7XU1hbCaQP95keXGnjY8/9STVO+sbjj/3SKfC98ONP5uwBKApmY0/Mwzdsg59jT8SY9gVVyaNP62CNa+9TYw/rYI1r71NjD+tgjWvvU2MP7WN8a+tlos/tY3xr62Wiz+SPGEuoYCLP5d8RGoDSos/Q7ylpSn4ij+ZlFUVZWyKP5mUVRVlbIo/A+kX/5H2iT9MFOJOKvuIPw==",
          "dtype": "f8"
         }
        },
        {
         "hovertext": "<b>Topic 8</b>:the_vij_pij_wij_algorithm_of_log_sn",
         "line": {
          "color": "black",
          "width": 1.5
         },
         "mode": "lines+lines",
         "name": "",
         "opacity": 0.1,
         "type": "scatter",
         "x": {
          "bdata": "AQAAAAIAAAADAAAABAAAAAUAAAAGAAAABwAAAAgAAAAJAAAACgAAAAsAAAAMAAAADQAAAA4AAAAPAAAAEAAAABEAAAASAAAAEwAAABQAAAAVAAAAFgAAABcAAAAYAAAAGQAAABoAAAAbAAAAHAAAAB0AAAAeAAAAHwAAACAAAAAhAAAAIgAAACMAAAAkAAAAJQAAACYAAAAnAAAAKAAAACkAAAAqAAAAKwAAACwAAAAtAAAALgAAAC8AAAAwAAAAMQAAADIAAAA=",
          "dtype": "i4"
         },
         "y": {
          "bdata": "tZH1q8Gypj9kUTDn8uulP5iFAP7u/aQ/G8vi15e3pD99aS+oe2ChP1iWkeBqxaA/oaUq2JlxoD+KrIkS6yugP90MRYGx3Z4/5vBGqqGonD+8qlgiNo+cPw3GPVDvb5w/Zy3jLJ+Kmj++Do+K5yOaP/xkoU0SAZo/U2tk1twXmD8G067qKJ2XP7S5cK6PIZc/Z0E/4txAlj8Nu9h/IxmWPxBco4iOo5U/czOqfoRJlT9veDgwideUP4bXBTgPr5Q/Kn+TpNF1lD97NbHrbjqUP0FagI4OOJQ/5bA61s7Gkz++Czm6zYCTP6TtzAP0NJM/FQwS5SPRkj8CITkz606SP7UsnQvbvZE//YoGmmq1kT+kmZsUuiKRPyHA6Y4QCJE/Zo8/xi95kD/rgBr+neWPP3plm5Ptco8/eGlzKJFcjz94aXMokVyPP80G2RaZQ48/3QxFgbHdjj/7b7XXbneOP2zjSUYM/Y0/OBMl8F3ijD84EyXwXeKMPzgTJfBd4ow/9DrvmhPUjD8lWz168a+MPw==",
          "dtype": "f8"
         }
        },
        {
         "hovertext": "<b>Topic 9</b>:findings_experimental_setup_results",
         "line": {
          "color": "black",
          "width": 1.5
         },
         "mode": "lines+lines",
         "name": "",
         "opacity": 0.1,
         "type": "scatter",
         "x": {
          "bdata": "AQAAAAIAAAADAAAABAAAAAUAAAAGAAAABwAAAAgAAAAJAAAACgAAAAsAAAAMAAAADQAAAA4AAAAPAAAAEAAAABEAAAASAAAAEwAAABQAAAAVAAAAFgAAABcAAAAYAAAAGQAAABoAAAAbAAAAHAAAAB0AAAAeAAAAHwAAACAAAAAhAAAAIgAAACMAAAAkAAAAJQAAACYAAAAnAAAAKAAAACkAAAAqAAAAKwAAACwAAAAtAAAALgAAAC8AAAAwAAAAMQAAADIAAAA=",
          "dtype": "i4"
         },
         "y": {
          "bdata": "995vgw4Pvj8O6b1yjpa8Pw7pvXKOlrw/RQGCbHkuuD8DGRmaue2vP2rWq7/dmKs/Z0XS0cjXqj9bFmrpdy2pP2mxch4yIqg/2GY8/6f9pz95vc3expSnPzjhjmYsP6U/Rpl7c8KepD8wraQyIU6kPwAG1S1urKM/S13htulEoz/lOMTaFtiiP2ysQ25HxaI/EQARPIXroT8JQ+YnPKqhP0cFpGRJRqE//F9w/faHnz9SyLOwWnOeP6TcMl72I50/pNwyXvYjnT8c9GwN/zmbP9Lst5CEwZo/0uy3kITBmj+5qfbfanOaP0FTkHae95k/oio3XeTqmT/6gTkcimKZPwPUDDUY0Zg/xi0sZPLJmD+Lq+s8KsCYP199yGPE7pc/X33IY8Tulz8PO3NdTL2XP5G4tpueN5c/ChFKLkwzlz96v4YP5ESWP3q/hg/kRJY/AqZjlxwhlj+Rh9/elO6VPymiaKVn3JU/dO5daWG7lT8jIoUHL5uVPyMihQcvm5U/cCflLeohlT//biqkVOmUPw==",
          "dtype": "f8"
         }
        },
        {
         "hovertext": "<b>Topic 10</b>:association_arxiv_linguistics_comp",
         "line": {
          "color": "black",
          "width": 1.5
         },
         "mode": "lines+lines",
         "name": "",
         "opacity": 0.1,
         "type": "scatter",
         "x": {
          "bdata": "AQAAAAIAAAADAAAABAAAAAUAAAAGAAAABwAAAAgAAAAJAAAACgAAAAsAAAAMAAAADQAAAA4AAAAPAAAAEAAAABEAAAASAAAAEwAAABQAAAAVAAAAFgAAABcAAAAYAAAAGQAAABoAAAAbAAAAHAAAAB0AAAAeAAAAHwAAACAAAAAhAAAAIgAAACMAAAAkAAAAJQAAACYAAAAnAAAAKAAAACkAAAAqAAAAKwAAACwAAAAtAAAALgAAAC8AAAAwAAAAMQAAADIAAAA=",
          "dtype": "i4"
         },
         "y": {
          "bdata": "c1zaVRa+qD8DElTTIa2oP0KsiZbNcqg/wqmivFaXpT8sg00zyWGlPyOadlZEaaQ/x9Pl0Qu9oj9Fd/30D/GgPxxL5Y9KLZ4/gvM7Q4o7nT+feAGrDmKcPzBcSpOvO5o/qhDhoDn0lj/WRRHJHgqWP+CbZ5/1/pE/4Jtnn/X+kT+/O+ZFTNyRPyOm5h1fyJE/kXxltYihkT9GQwhe1lqRP3FYCg1NTpE/mw+lC6uzkD+UXMPTJWmQP5qDeNHmjI8/moN40eaMjz+ag3jR5oyPP0QDZQ3Avo4/e11591xVjj9ttOXkjzaOP2205eSPNo4/rOAFSnIIjj/QZA+mtseNPxy7nnmOd40/nE+Bxh8tjT+cT4HGHy2NP5xPgcYfLY0/nE+Bxh8tjT8FFeLL/MmMP87xR/dTVIw/khYq2CFMjD/bBApzk0OMPxBRHlwMGIw/8D58XRmdiz/wPnxdGZ2LP8xTrleLcoo/zFOuV4tyij9BU5B2nveJP7mVrNDlW4k/TAmw5RodiT9MCbDlGh2JPw==",
          "dtype": "f8"
         }
        },
        {
         "hovertext": "<b>Topic 11</b>:topic_modeling_topics_and_words_se",
         "line": {
          "color": "black",
          "width": 1.5
         },
         "mode": "lines+lines",
         "name": "",
         "opacity": 0.1,
         "type": "scatter",
         "x": {
          "bdata": "AQAAAAIAAAADAAAABAAAAAUAAAAGAAAABwAAAAgAAAAJAAAACgAAAAsAAAAMAAAADQAAAA4AAAAPAAAAEAAAABEAAAASAAAAEwAAABQAAAAVAAAAFgAAABcAAAAYAAAAGQAAABoAAAAbAAAAHAAAAB0AAAAeAAAAHwAAACAAAAAhAAAAIgAAACMAAAAkAAAAJQAAACYAAAAnAAAAKAAAACkAAAAqAAAAKwAAACwAAAAtAAAALgAAAC8AAAAwAAAAMQAAADIAAAA=",
          "dtype": "i4"
         },
         "y": {
          "bdata": "4wzsXMbFtj9mmnIwVGuqP0QbCChOUqo/U2bhplv2oz+ZDMilK8OhP9DcuQ0eYaA/rb6uQRRHoD8wEOLWW9WfP5WbqroyUp8/kE3Ikz4Unj8W2rPrmtOdP0se0IEBP50/iDMBDfGzmz99MA+JwIqbPz2XVfc5g5s/0mQIyNZjmz8BiZeESfyXP0K52NpIm5c/loQJ7ypmlz+/bNQdqK2WP1Ep3XvtRZY/O6uv3qPRlT/ggKuVjZyVP+AYdcrc1pQ/3Aa7EYQplD/cBrsRhCmUP2NqvK0U9pM/KN8ZGvPXkz/uIiqCQc+RP3TcMWjiXJE/KpgyDyhIkT8SwryjjESRP1xHNhqQJZE/XNjExvPBkD8VjTWCd5aQP36Db4VzhpA/JPfh/p9gkD8ivqJcTnmPP45rc1PLR48/C9CxYnwrjz9Yf1z6LtmNPzJz214JrY0/nvEt929SjT/ms6LoeuCLPwRK7N/sgIs/DRK7F4VIiz/WK89pKgyKP9JTQ6yYwYk/maKsiUigiT8TtZE7gXeJPw==",
          "dtype": "f8"
         }
        },
        {
         "hovertext": "<b>Topic 12</b>:finreal_finsing_functor_adjoint_si",
         "line": {
          "color": "black",
          "width": 1.5
         },
         "mode": "lines+lines",
         "name": "",
         "opacity": 0.1,
         "type": "scatter",
         "x": {
          "bdata": "AQAAAAIAAAADAAAABAAAAAUAAAAGAAAABwAAAAgAAAAJAAAACgAAAAsAAAAMAAAADQAAAA4AAAAPAAAAEAAAABEAAAASAAAAEwAAABQAAAAVAAAAFgAAABcAAAAYAAAAGQAAABoAAAAbAAAAHAAAAB0AAAAeAAAAHwAAACAAAAAhAAAAIgAAACMAAAAkAAAAJQAAACYAAAAnAAAAKAAAACkAAAAqAAAAKwAAACwAAAAtAAAALgAAAC8AAAAwAAAAMQAAADIAAAA=",
          "dtype": "i4"
         },
         "y": {
          "bdata": "Zhvn9+3Mtz+cr0wwWEyuP0uThsyaXq0/RFirrZDQpz9oykdlIsymP1tAg2J+RqY/oCKsUfoIpj+xoeHVKqqlPxqS/9slLKU/Ir+1QcWYpD8iv7VBxZikPyK/tUHFmKQ/t/b2b2e3oz94C5U64eKiPy93dv9Bz6I/Ee0qJ2T/oT+QUiI6hNmhPyOYBnoUmqE/B/w+gumYoT+ibiprvkqhP6JuKmu+SqE/jjxGgTw9oT9S7jzhNBShP+gjSVOHpqA/TPAcG3aUoD+Vvdr2qF2gP5TzBJj86p8/pcYa/21Znz+IFX/KJsWeP9wZbYMRP54/6TCxDl6jnT8X9iyDPvycP4LqaKoM7Jw/gq+tn3+mnD+Cr62ff6acP0ru8p5L1Zs/n+k3zD6Nmz9KxEXb9R+bP+qeSP9XFJk/rxQkaXQymD+vFCRpdDKYP68UJGl0Mpg/lbVBCIMwmD9QwC4gcRGYP2KO5WsH6Zc/ClCprYx2lz/M6XM0No2WP0pBA4zZfpY/q/MCIFlwlj+r8wIgWXCWPw==",
          "dtype": "f8"
         }
        },
        {
         "hovertext": "<b>Topic 13</b>:equation_xˆvi_matrix_vectors_the_o",
         "line": {
          "color": "black",
          "width": 1.5
         },
         "mode": "lines+lines",
         "name": "",
         "opacity": 0.1,
         "type": "scatter",
         "x": {
          "bdata": "AQAAAAIAAAADAAAABAAAAAUAAAAGAAAABwAAAAgAAAAJAAAACgAAAAsAAAAMAAAADQAAAA4AAAAPAAAAEAAAABEAAAASAAAAEwAAABQAAAAVAAAAFgAAABcAAAAYAAAAGQAAABoAAAAbAAAAHAAAAB0AAAAeAAAAHwAAACAAAAAhAAAAIgAAACMAAAAkAAAAJQAAACYAAAAnAAAAKAAAACkAAAAqAAAAKwAAACwAAAAtAAAALgAAAC8AAAAwAAAAMQAAADIAAAA=",
          "dtype": "i4"
         },
         "y": {
          "bdata": "3efJjrJ4sT+cZIsAPU2uPxWISmRCGKs/+ZO9kr7XqT+uR0cbEW2nPwYL2x7jMaY/jyA4pg2bpD9EqicaXpakP7YBvSyCb6M/tgG9LIJvoz+2Ab0sgm+jP++J9N+fuaI/33R7c6h/oj8zNkEDJPKhP+IZGimpz6E/BlBRQA6toT8dhz8JQxehPx2HPwlDF6E/EWcUcOAtoD8AgDIkr9ydPzVKCWc7jZ0/MsrrlhZWnT8yyuuWFladP6CS/NHCNp0/NZQAQzUjnT85uJ4YzrGcPxQdQCGNCZw/wqQjRpWImD9GTUPplU2YP0ZNQ+mVTZg/Rk1D6ZVNmD8yRkwVVzeYP1s7VhISeJc/WztWEhJ4lz/eTU24DiuXP2NdeldOtZY/v4MRBK1ulj9m/kBvwGiWP1/OEdPt85U/GAQgKlPRlD/XOFR2S+WTPwG3T2t3oJM/E9/fLbgIkz8T398tuAiTPxPf3y24CJM/E9/fLbgIkz8T398tuAiTP7ho1cAIsZI/geM7yZJ9kj/0efJuMDqSPw==",
          "dtype": "f8"
         }
        },
        {
         "hovertext": "<b>Topic 14</b>:umap_in_of_section_structure_the_f",
         "line": {
          "color": "black",
          "width": 1.5
         },
         "mode": "lines+lines",
         "name": "",
         "opacity": 0.1,
         "type": "scatter",
         "x": {
          "bdata": "AQAAAAIAAAADAAAABAAAAAUAAAAGAAAABwAAAAgAAAAJAAAACgAAAAsAAAAMAAAADQAAAA4AAAAPAAAAEAAAABEAAAASAAAAEwAAABQAAAAVAAAAFgAAABcAAAAYAAAAGQAAABoAAAAbAAAAHAAAAB0AAAAeAAAAHwAAACAAAAAhAAAAIgAAACMAAAAkAAAAJQAAACYAAAAnAAAAKAAAACkAAAAqAAAAKwAAACwAAAAtAAAALgAAAC8AAAAwAAAAMQAAADIAAAA=",
          "dtype": "i4"
         },
         "y": {
          "bdata": "jPOd7QxFrD9lwvYVeISjPwRsHyH7c6M/voFgA8qMoj+F78VfpGWiP0dZGWIaEaA/LqScuuQQnT8JOqJo8eibP6TWLxzH2ps//vgXyUKRmz9ezWV3yt+aP5RA5f9xfZo/+QJNE55omj8JLqOk9+uYP5oHDrLHs5g/PpP6ALEOmD+mqiGDiwyYP1Lt5/9M15c/a9HKhEWElz/GQifALxOXPyq8PBQk1ZY/1qL+JmKblD9NRF6NpUmUP2AwPSCFRZQ/rh4MtIcblD96gjp6Yg6UP6b9HgVK/pM/wUZ2dBGvkz/POgTZ2gKTP47ftSHDp5I/onRrIuGWkj/C7Dyrw3SSP/6lujDXYJI/P7SdTGXbkT853f1xyrKRPy4MGDmILZE/bLzHPve+kD+0s+xjn5WQP8D2DqUf748/GOff/7vJjz9Hm6extpmPP431EiAUbY8//V0A6PLejj/9aYymZqGOP7hRkyxTYI4/ZsYmNMUBjj/bpEnf7nSNP9ukSd/udI0/jPdVvSlDjT+mV2QOUBONPw==",
          "dtype": "f8"
         }
        },
        {
         "hovertext": "<b>Topic 15</b>:014_013_015_002_017_016_largevis_9",
         "line": {
          "color": "black",
          "width": 1.5
         },
         "mode": "lines+lines",
         "name": "",
         "opacity": 0.1,
         "type": "scatter",
         "x": {
          "bdata": "AQAAAAIAAAADAAAABAAAAAUAAAAGAAAABwAAAAgAAAAJAAAACgAAAAsAAAAMAAAADQAAAA4AAAAPAAAAEAAAABEAAAASAAAAEwAAABQAAAAVAAAAFgAAABcAAAAYAAAAGQAAABoAAAAbAAAAHAAAAB0AAAAeAAAAHwAAACAAAAAhAAAAIgAAACMAAAAkAAAAJQAAACYAAAAnAAAAKAAAACkAAAAqAAAAKwAAACwAAAAtAAAALgAAAC8AAAAwAAAAMQAAADIAAAA=",
          "dtype": "i4"
         },
         "y": {
          "bdata": "wGdNUcnquD9qBYyL4hu0P2jVLZSGurA/aNUtlIa6sD8Fat+M1GOwPz2KasWZVao/d5MShd/5pj80lOnz8JmmPzSU6fPwmaY/NJTp8/CZpj80c4MkAPKlP1Nov9rI0KM//v+d60p0oz8iQZQZyB6iPzbNAzDaQ6A/ddU3334gnj9giVqezWmdP8URCxIbVJ0/xRELEhtUnT/FEQsSG1SdP8URCxIbVJ0/xRELEhtUnT/FEQsSG1SdP8URCxIbVJ0/xRELEhtUnT/FEQsSG1SdP8URCxIbVJ0/xRELEhtUnT/FEQsSG1SdP8URCxIbVJ0/Mhb2Rl/3nD8NOvavgTKcPy9RzubfFZw/L1HO5t8VnD8vUc7m3xWcPxuDK+jbpps/C+WxJCEfmz8L5bEkIR+bPwvlsSQhH5s/PYpqxZlVmj99J5Yw2uSZP+Y2v3NGq5k/5WwOQXYhmD+Rd/kY/xmYP2fRNhNcs5c/ZGaK51lYlz9kZornWViXP2RmiudZWJc/xF8MSxwAlz/EXwxLHACXPw==",
          "dtype": "f8"
         }
        },
        {
         "hovertext": "<b>Topic 16</b>:policy_topic_trade_coherence_crime",
         "line": {
          "color": "black",
          "width": 1.5
         },
         "mode": "lines+lines",
         "name": "",
         "opacity": 0.1,
         "type": "scatter",
         "x": {
          "bdata": "AQAAAAIAAAADAAAABAAAAAUAAAAGAAAABwAAAAgAAAAJAAAACgAAAAsAAAAMAAAADQAAAA4AAAAPAAAAEAAAABEAAAASAAAAEwAAABQAAAAVAAAAFgAAABcAAAAYAAAAGQAAABoAAAAbAAAAHAAAAB0AAAAeAAAAHwAAACAAAAAhAAAAIgAAACMAAAAkAAAAJQAAACYAAAAnAAAAKAAAACkAAAAqAAAAKwAAACwAAAAtAAAALgAAAC8AAAAwAAAAMQAAADIAAAA=",
          "dtype": "i4"
         },
         "y": {
          "bdata": "rfWp2a6Crz8glKvAcUWpPxenHONuqaQ/mSvzdvDnoj9FfmTlBpSiP9cI4pdHMKE/GD9TLo0inj8YP1MujSKePxg/Uy6NIp4/ag0O8EBGnT9nLAQzSW6bP3BjVWX4Dps/cGNVZfgOmz/kBrlTnjaaP170eiimw5g/4W+u4a38lz8Ew2PSzPeXP8TY2R7ul5Y/SYR2UztElj//x22NU/+VP4sj8WNjSpU/iyPxY2NKlT+LI/FjY0qVP4sj8WNjSpU/iyPxY2NKlT+LI/FjY0qVP4sj8WNjSpU/iyPxY2NKlT+LI/FjY0qVP4sj8WNjSpU/iyPxY2NKlT+LI/FjY0qVP4sj8WNjSpU/iyPxY2NKlT+LI/FjY0qVP4sj8WNjSpU/iyPxY2NKlT+LI/FjY0qVP4sj8WNjSpU/iyPxY2NKlT+LI/FjY0qVP4sj8WNjSpU/k11HQcn1lD+61IzJCBeUP7rUjMkIF5Q/utSMyQgXlD+61IzJCBeUP7rUjMkIF5Q/utSMyQgXlD+61IzJCBeUPw==",
          "dtype": "f8"
         }
        },
        {
         "hovertext": "<b>Topic 17</b>:model_70b_al_et_wsj_merging_llama_",
         "line": {
          "color": "black",
          "width": 1.5
         },
         "mode": "lines+lines",
         "name": "",
         "opacity": 0.1,
         "type": "scatter",
         "x": {
          "bdata": "AQAAAAIAAAADAAAABAAAAAUAAAAGAAAABwAAAAgAAAAJAAAACgAAAAsAAAAMAAAADQAAAA4AAAAPAAAAEAAAABEAAAASAAAAEwAAABQAAAAVAAAAFgAAABcAAAAYAAAAGQAAABoAAAAbAAAAHAAAAB0AAAAeAAAAHwAAACAAAAAhAAAAIgAAACMAAAAkAAAAJQAAACYAAAAnAAAAKAAAACkAAAAqAAAAKwAAACwAAAAtAAAALgAAAC8AAAAwAAAAMQAAADIAAAA=",
          "dtype": "i4"
         },
         "y": {
          "bdata": "ScfL+kVJrz+xzm900yKsP4G+A2oOEac/eKRhm+Mppj/5VdQvy9+iP0GIGvbDz6E/o6mxB1qDoD93MwqOTS+gP/zS9ugt2J8/3eXHdWObnz+Xzro8ctSePwuyNFnYBZ4/baQOQMXMnT9tRcpunk2dPxrhp/5sdZs/zhQZX717mj85cKVEWxmZPzkjVpqsh5g/lZqX739DmD/jMFF4CNeXPziKzzEmzZc/NE+EYenHlz9E/xvhDJOXP0O0nlgDV5c/Q7SeWANXlz/CJZkgSfSWPzB4I36t0ZY/qK0N+wf4lT+cF2m2qn2VP6+c9a+K6pQ/Eo9c+a7ZlD/N/uUzLVGUP7DG4zq6MpQ/WwGZLuAYlD9YszpczQCUPz4dqXB64ZI/7l31RLqJkj9XlrPh13SSP7tAxalITpI/AVESiwT2kT+NsefQzM+RP/xW8OZGtZE/ZpXyhh6pkT9ZIp5FhIORP4cg7nzZgZE/hyDufNmBkT/GAul8bDmRPySamh5CHZE/JqDDLZK7kD91wXOVyKGQPw==",
          "dtype": "f8"
         }
        },
        {
         "hovertext": "<b>Topic 18</b>:1020_math_table_1019_dataset_of_en",
         "line": {
          "color": "black",
          "width": 1.5
         },
         "mode": "lines+lines",
         "name": "",
         "opacity": 0.1,
         "type": "scatter",
         "x": {
          "bdata": "AQAAAAIAAAADAAAABAAAAAUAAAAGAAAABwAAAAgAAAAJAAAACgAAAAsAAAAMAAAADQAAAA4AAAAPAAAAEAAAABEAAAASAAAAEwAAABQAAAAVAAAAFgAAABcAAAAYAAAAGQAAABoAAAAbAAAAHAAAAB0AAAAeAAAAHwAAACAAAAAhAAAAIgAAACMAAAAkAAAAJQAAACYAAAAnAAAAKAAAACkAAAAqAAAAKwAAACwAAAAtAAAALgAAAC8AAAAwAAAAMQAAADIAAAA=",
          "dtype": "i4"
         },
         "y": {
          "bdata": "fc3T3xXkpD/ldOK6cHCfP9BAqBsMZp8/wWzgu+60nT/ld+QvTGSbP32jUAr1opo/ngoApt1fmT8/ZEZrA6KYP4RMXcomYJc/ZBINoyZElz8VTKW9aV6WPwRsCTtcWZY//+JslKHvlT+zvcoHBsOVP1wErhv1g5U/XDearLM6lT99zdPfFeSUP33N098V5JQ/M6+QZLvXlD9Gd1bxmouUP+Vu39jHh5Q/+SIoiPdclD/5IiiI91yUP74LObrNgJM/XV/CJG9okz8s7gtuWViTP7OuWnM2zZI/rX8kF/+/kj/P1n07UrOSP5klRZ1xMpI/wC79j+TikT87suvylHGRP+5xScOeVJE/p1M52XoskT+kmZsUuiKRP7VMZOLxHpE/XVREqxBwkD9dVESrEHCQP11URKsQcJA/XVREqxBwkD9dVESrEHCQP11URKsQcJA/XVREqxBwkD9dVESrEHCQP11URKsQcJA/XVREqxBwkD9dVESrEHCQP11URKsQcJA/XVREqxBwkD/Jm4GfYwSQPw==",
          "dtype": "f8"
         }
        },
        {
         "hovertext": "<b>Topic 19</b>:agentic_content_agent_the_refine_c",
         "line": {
          "color": "black",
          "width": 1.5
         },
         "mode": "lines+lines",
         "name": "",
         "opacity": 0.1,
         "type": "scatter",
         "x": {
          "bdata": "AQAAAAIAAAADAAAABAAAAAUAAAAGAAAABwAAAAgAAAAJAAAACgAAAAsAAAAMAAAADQAAAA4AAAAPAAAAEAAAABEAAAASAAAAEwAAABQAAAAVAAAAFgAAABcAAAAYAAAAGQAAABoAAAAbAAAAHAAAAB0AAAAeAAAAHwAAACAAAAAhAAAAIgAAACMAAAAkAAAAJQAAACYAAAAnAAAAKAAAACkAAAAqAAAAKwAAACwAAAAtAAAALgAAAC8AAAAwAAAAMQAAADIAAAA=",
          "dtype": "i4"
         },
         "y": {
          "bdata": "hhURzDoWsT/oP6qLGL2wP4eXGyQi36o/7KJ/fe0gpD8FtJ+OAYujPx+TdaBXgaI/meLEim9loT/qNdKcc9SgP36OyYAouZ8/IhGkpjrPnj+s5R3l5uadP9+R96a8Kpw/Cod2Zu8HnD8T3aDnX/ybP772p8Chb5o/XB8mNrVQmT8plr5N7gqYPzSQecTFI5c/NJB5xMUjlz/IGuP8b7KVP/5ehgAbJpU/1VZuK5eslD/xyaSAUHSUP4dFqIRyQZQ/YuLO/fsvlD8D8Fl6Sy+UP+4RkIXS+pM/UIJ/K4Tmkz8FtJ+OAYuTPxcjUbTXOpM/j9tC5roSkz/SWRsnPvOSP9/HSrf31ZI/Wu3SOHkfkj9a7dI4eR+SP1rt0jh5H5I/Wu3SOHkfkj9a7dI4eR+SP7kqWs/N/5E/ta9BK/Z7kT8nLFtT1FqRPycsW1PUWpE/JyxbU9RakT8yPc8NgVWRP+TGaqmCx5A/FlSq/dNFkD8WVKr900WQPy0lSi2Y/I8/fo7JgCi5jz9+jsmAKLmPPw==",
          "dtype": "f8"
         }
        },
        {
         "hovertext": "<b>Topic 20</b>:judge_bench_thai_the_gpt_model_mt_",
         "line": {
          "color": "black",
          "width": 1.5
         },
         "mode": "lines+lines",
         "name": "",
         "opacity": 0.1,
         "type": "scatter",
         "x": {
          "bdata": "AQAAAAIAAAADAAAABAAAAAUAAAAGAAAABwAAAAgAAAAJAAAACgAAAAsAAAAMAAAADQAAAA4AAAAPAAAAEAAAABEAAAASAAAAEwAAABQAAAAVAAAAFgAAABcAAAAYAAAAGQAAABoAAAAbAAAAHAAAAB0AAAAeAAAAHwAAACAAAAAhAAAAIgAAACMAAAAkAAAAJQAAACYAAAAnAAAAKAAAACkAAAAqAAAAKwAAACwAAAAtAAAALgAAAC8AAAAwAAAAMQAAADIAAAA=",
          "dtype": "i4"
         },
         "y": {
          "bdata": "UaA9Ck+5qD+Ks4Hpfm6oP3DbbkfTEKc/syH06/Cyoz9Vlq/FsnmjP2Ia+MqOZ6M/0LsI8NDUoT9y7+mB/fKgP9qEEU3uzKA/6x3EM0aJoD8IIR1duymgPyycqcMTGJ8/I5A69Ay8nj9Z+R28hWqdP6YlQprx45o/XSCAw8W2mT/gkbsgkQ+ZP6pHAbhE45g/ZBL8IVqWmD+IfWNvvYqXP/sOBwbPc5c/NmeiuH8jlz8C9UmYH9yWP8ycP2W8LZY/qiBuvpHvlT9rIAzNILaVP+x9V7CtgpU/wv9TysMflT9Ls+6nHcmUP7e7q+5jvZQ/QT3338GPlD+yE9SipXuUP/NqQW0UXJQ/QLtq7wSwkz/4VeiL1WeTP1Kq44GTIZM/coxioUTCkj/TRzu3oqWSP7k+sh1VZJI/LYUeLaRMkj/yAFAqSASSPw16e95CyZE/PUuFRNuWkT9jrxVM33SRP66Pv7c3CpE/XKmp6OpikD/fYw0FDzGQP99jDQUPMZA/1l2H9mYfkD8WpXAYqwGQPw==",
          "dtype": "f8"
         }
        },
        {
         "hovertext": "<b>Topic 21</b>:cluster_words_each_sentence_topic_",
         "line": {
          "color": "black",
          "width": 1.5
         },
         "mode": "lines+lines",
         "name": "",
         "opacity": 0.1,
         "type": "scatter",
         "x": {
          "bdata": "AQAAAAIAAAADAAAABAAAAAUAAAAGAAAABwAAAAgAAAAJAAAACgAAAAsAAAAMAAAADQAAAA4AAAAPAAAAEAAAABEAAAASAAAAEwAAABQAAAAVAAAAFgAAABcAAAAYAAAAGQAAABoAAAAbAAAAHAAAAB0AAAAeAAAAHwAAACAAAAAhAAAAIgAAACMAAAAkAAAAJQAAACYAAAAnAAAAKAAAACkAAAAqAAAAKwAAACwAAAAtAAAALgAAAC8AAAAwAAAAMQAAADIAAAA=",
          "dtype": "i4"
         },
         "y": {
          "bdata": "BQQRjpFzuD9UnvmfyNquPxHgYnLeJas/9XrGAOGRqj/mIHfrT3WqP6uOl3qejak/u5SZs4iipT98Egckd/OjP9XkXiaVgqM/ctjTC59aoz9UaNUuNauiP8+SUyr7SaI/REqdIiLjoT/7/MY3Sc6hP00B8Z8pDKE/PSfad9GWoD9JvcRVxn6fPzG6ip4tip4/wVMJBfvEnT+bcjCoKTScP4Thpo3DdZs//Pvo2GRxmj8DDobIyQ6aPyY5/5RzAZo/TUQi4KNTmT9uAgWviHSYPwme9m86Y5g/SP/n8Lyblz9sdIYy/w+XPzGo66JXRZY/MajroldFlj8xqOuiV0WWP2LWltUC6JU/fWF/x4STlT/J+L+SJU2VPyMpPapSmJQ/ksqgb7tFlD9lUr7Moz2UPz4tP+Vf+ZI/m8h/73uEkj89szjbb1SSPxyPhbapGJI/EEWEMQ8Dkj/nMRG+ZJ+RP7KHzn4vd5E/sofOfi93kT/mWEgO1guRPy5R7Vh1/5A/m0lK0MJBkD/239hNZUGQPw==",
          "dtype": "f8"
         }
        },
        {
         "hovertext": "<b>Topic 22</b>:thai_language_on_pretraining_llms_",
         "line": {
          "color": "black",
          "width": 1.5
         },
         "mode": "lines+lines",
         "name": "",
         "opacity": 0.1,
         "type": "scatter",
         "x": {
          "bdata": "AQAAAAIAAAADAAAABAAAAAUAAAAGAAAABwAAAAgAAAAJAAAACgAAAAsAAAAMAAAADQAAAA4AAAAPAAAAEAAAABEAAAASAAAAEwAAABQAAAAVAAAAFgAAABcAAAAYAAAAGQAAABoAAAAbAAAAHAAAAB0AAAAeAAAAHwAAACAAAAAhAAAAIgAAACMAAAAkAAAAJQAAACYAAAAnAAAAKAAAACkAAAAqAAAAKwAAACwAAAAtAAAALgAAAC8AAAAwAAAAMQAAADIAAAA=",
          "dtype": "i4"
         },
         "y": {
          "bdata": "Bk8cCtlvuT8qYM0aqJyuPzFgsWSmz6c/Jl4WHOrCpj8Dg8e++DmmP0tFP5EBcKM/Bsl9z/OToT+rHcVPRjmhP8cZ7AqMAKE/rbraYvG8oD/3fmTlwFidP10H5QxVAJo/4kDnEornmT9uSoLtHz6ZP5JY3gXEWpg/bl0hnN32lz8KlxbV7cKXP2LsBY2ofpc/ZAgrqFB7lz8PIlkswPuWPzq9zwzIspY/urUQIOmwlj/NFvxvQs6VP6D6CaXQsZU/dNQM3auglT/3ah//qH+VP/l9/YqEDJU/8iU3iusJlT/dVSsS6QiVPzD7x/IU6ZQ/jPN31FvMlD+aI4YsIauUP7gDk6J4R5Q/zjFqGQMjlD9jBi0mUhyUP6kxeeFtkZM/AWnwVsGCkz9duxk3vFKTP+7DxCLF7ZI/EqLNt/Sqkj9Y9G01DJWSP1j0bTUMlZI/lcRz5iAnkj+L2UIh0DyRP+zNmwkWBpE/Utblvqvpjz9S1uW+q+mPP1DZgsaBo48/ZjiZ3fQAjz+dGRRa3f2OPw==",
          "dtype": "f8"
         }
        },
        {
         "hovertext": "<b>Topic 23</b>:math_context_performance_code_codi",
         "line": {
          "color": "black",
          "width": 1.5
         },
         "mode": "lines+lines",
         "name": "",
         "opacity": 0.1,
         "type": "scatter",
         "x": {
          "bdata": "AQAAAAIAAAADAAAABAAAAAUAAAAGAAAABwAAAAgAAAAJAAAACgAAAAsAAAAMAAAADQAAAA4AAAAPAAAAEAAAABEAAAASAAAAEwAAABQAAAAVAAAAFgAAABcAAAAYAAAAGQAAABoAAAAbAAAAHAAAAB0AAAAeAAAAHwAAACAAAAAhAAAAIgAAACMAAAAkAAAAJQAAACYAAAAnAAAAKAAAACkAAAAqAAAAKwAAACwAAAAtAAAALgAAAC8AAAAwAAAAMQAAADIAAAA=",
          "dtype": "i4"
         },
         "y": {
          "bdata": "SsioIx/ouD/jqLyJyf6xP5gKs0pldK0/F0fxkBYnrT8JJvQXu4ekP9ukx1GoxqM/FCI6l/5/oz9a1THB+F+jPz9nZQFTmqE/BrZUqiSDoD+HJDT157ufP6koOM506p4/vMtDDJpqnj+FdhNTdgqePyPQnxsVYp0/KIAMix+CnD+amXInYvGaP9spGkI/8Zo/q+cjvi6+mj+c2Ro8GYiZPwjFw0fe/Zg/gfcBlTXYmD97xZT9waOYP3IfcMVak5c/NvcGZxIvlz+dQXHcLhWWP9gUwAHKQ5U/BSH0na3plD8OhRmSba2UPwUjmbm5ZJQ/jwfn2ucllD+xxFfKCPuTP7qxzDHuopM/2yAzGrtrkz8vd3b/Qc+SPy93dv9Bz5I/wYxEbSvFkj/FQ075PaiSP4QP207XJZI/evOxWl2mkT9639AQoJyRPydOgRHvVJE/jAOrM8QckT/4GUG9u4aQP2J0JYjZtI8/0pw/BTRxjz/SnD8FNHGPPzEYfJqEL48/0+a+peb+jj/pMLEOXqONPw==",
          "dtype": "f8"
         }
        },
        {
         "hovertext": "<b>Topic 24</b>:tokenizer_tokens_the_training_big_",
         "line": {
          "color": "black",
          "width": 1.5
         },
         "mode": "lines+lines",
         "name": "",
         "opacity": 0.1,
         "type": "scatter",
         "x": {
          "bdata": "AQAAAAIAAAADAAAABAAAAAUAAAAGAAAABwAAAAgAAAAJAAAACgAAAAsAAAAMAAAADQAAAA4AAAAPAAAAEAAAABEAAAASAAAAEwAAABQAAAAVAAAAFgAAABcAAAAYAAAAGQAAABoAAAAbAAAAHAAAAB0AAAAeAAAAHwAAACAAAAAhAAAAIgAAACMAAAAkAAAAJQAAACYAAAAnAAAAKAAAACkAAAAqAAAAKwAAACwAAAAtAAAALgAAAC8AAAAwAAAAMQAAADIAAAA=",
          "dtype": "i4"
         },
         "y": {
          "bdata": "ZpbU3Am0sD+bTUh33rqmP15LJWp2maU/DEVfDezbpD+4IPvhTayjPxETJ35MU6M/oNRcKQKioj84/swHZAeiP60kzwVjraE/lW52zdj7nz/6R+608nOfPxLsOU/nYJ8/KJ9pPpAenj+O/SPNIA+dP9aWAN/pf5w/J4Yn4575mD/ucj0LvN+YP8D9psHUjpg/iofKYPs6mD9KA9BpXRGYP5F3LrCO65c/SBlGVZ+Xlz8u+wOy5WWWPy3mXhVwMJY/tG2Ap4atlT8ygDAziy6VP7mRyg/RjpQ//nGoY+gplD9J8rt6kyOUP53XRplTHpQ/TCZyi7IDlD+JtgKzH9GTP5k+RF4jFpM/W47Hnx5Hkj9bjsefHkeSP2LLObnRBZI/jQhsFya8kT9uyIbRpLeRP2m6spGRpZE/5uq9yWqkkT81XICxJluRP01oMhKvKpE/nkDXCtXckD+iLAcQVKSQP4kHOI8FWZA/ZOcnaBE/kD8Ykqki6TiPPw8Q/jxez44/DxD+PF7Pjj8PEP48Xs+OPw==",
          "dtype": "f8"
         }
        }
       ],
       "layout": {
        "height": 500,
        "hoverlabel": {
         "bgcolor": "white",
         "font": {
          "family": "Rockwell",
          "size": 16
         }
        },
        "showlegend": false,
        "template": {
         "data": {
          "bar": [
           {
            "error_x": {
             "color": "#2a3f5f"
            },
            "error_y": {
             "color": "#2a3f5f"
            },
            "marker": {
             "line": {
              "color": "white",
              "width": 0.5
             },
             "pattern": {
              "fillmode": "overlay",
              "size": 10,
              "solidity": 0.2
             }
            },
            "type": "bar"
           }
          ],
          "barpolar": [
           {
            "marker": {
             "line": {
              "color": "white",
              "width": 0.5
             },
             "pattern": {
              "fillmode": "overlay",
              "size": 10,
              "solidity": 0.2
             }
            },
            "type": "barpolar"
           }
          ],
          "carpet": [
           {
            "aaxis": {
             "endlinecolor": "#2a3f5f",
             "gridcolor": "#C8D4E3",
             "linecolor": "#C8D4E3",
             "minorgridcolor": "#C8D4E3",
             "startlinecolor": "#2a3f5f"
            },
            "baxis": {
             "endlinecolor": "#2a3f5f",
             "gridcolor": "#C8D4E3",
             "linecolor": "#C8D4E3",
             "minorgridcolor": "#C8D4E3",
             "startlinecolor": "#2a3f5f"
            },
            "type": "carpet"
           }
          ],
          "choropleth": [
           {
            "colorbar": {
             "outlinewidth": 0,
             "ticks": ""
            },
            "type": "choropleth"
           }
          ],
          "contour": [
           {
            "colorbar": {
             "outlinewidth": 0,
             "ticks": ""
            },
            "colorscale": [
             [
              0,
              "#0d0887"
             ],
             [
              0.1111111111111111,
              "#46039f"
             ],
             [
              0.2222222222222222,
              "#7201a8"
             ],
             [
              0.3333333333333333,
              "#9c179e"
             ],
             [
              0.4444444444444444,
              "#bd3786"
             ],
             [
              0.5555555555555556,
              "#d8576b"
             ],
             [
              0.6666666666666666,
              "#ed7953"
             ],
             [
              0.7777777777777778,
              "#fb9f3a"
             ],
             [
              0.8888888888888888,
              "#fdca26"
             ],
             [
              1,
              "#f0f921"
             ]
            ],
            "type": "contour"
           }
          ],
          "contourcarpet": [
           {
            "colorbar": {
             "outlinewidth": 0,
             "ticks": ""
            },
            "type": "contourcarpet"
           }
          ],
          "heatmap": [
           {
            "colorbar": {
             "outlinewidth": 0,
             "ticks": ""
            },
            "colorscale": [
             [
              0,
              "#0d0887"
             ],
             [
              0.1111111111111111,
              "#46039f"
             ],
             [
              0.2222222222222222,
              "#7201a8"
             ],
             [
              0.3333333333333333,
              "#9c179e"
             ],
             [
              0.4444444444444444,
              "#bd3786"
             ],
             [
              0.5555555555555556,
              "#d8576b"
             ],
             [
              0.6666666666666666,
              "#ed7953"
             ],
             [
              0.7777777777777778,
              "#fb9f3a"
             ],
             [
              0.8888888888888888,
              "#fdca26"
             ],
             [
              1,
              "#f0f921"
             ]
            ],
            "type": "heatmap"
           }
          ],
          "histogram": [
           {
            "marker": {
             "pattern": {
              "fillmode": "overlay",
              "size": 10,
              "solidity": 0.2
             }
            },
            "type": "histogram"
           }
          ],
          "histogram2d": [
           {
            "colorbar": {
             "outlinewidth": 0,
             "ticks": ""
            },
            "colorscale": [
             [
              0,
              "#0d0887"
             ],
             [
              0.1111111111111111,
              "#46039f"
             ],
             [
              0.2222222222222222,
              "#7201a8"
             ],
             [
              0.3333333333333333,
              "#9c179e"
             ],
             [
              0.4444444444444444,
              "#bd3786"
             ],
             [
              0.5555555555555556,
              "#d8576b"
             ],
             [
              0.6666666666666666,
              "#ed7953"
             ],
             [
              0.7777777777777778,
              "#fb9f3a"
             ],
             [
              0.8888888888888888,
              "#fdca26"
             ],
             [
              1,
              "#f0f921"
             ]
            ],
            "type": "histogram2d"
           }
          ],
          "histogram2dcontour": [
           {
            "colorbar": {
             "outlinewidth": 0,
             "ticks": ""
            },
            "colorscale": [
             [
              0,
              "#0d0887"
             ],
             [
              0.1111111111111111,
              "#46039f"
             ],
             [
              0.2222222222222222,
              "#7201a8"
             ],
             [
              0.3333333333333333,
              "#9c179e"
             ],
             [
              0.4444444444444444,
              "#bd3786"
             ],
             [
              0.5555555555555556,
              "#d8576b"
             ],
             [
              0.6666666666666666,
              "#ed7953"
             ],
             [
              0.7777777777777778,
              "#fb9f3a"
             ],
             [
              0.8888888888888888,
              "#fdca26"
             ],
             [
              1,
              "#f0f921"
             ]
            ],
            "type": "histogram2dcontour"
           }
          ],
          "mesh3d": [
           {
            "colorbar": {
             "outlinewidth": 0,
             "ticks": ""
            },
            "type": "mesh3d"
           }
          ],
          "parcoords": [
           {
            "line": {
             "colorbar": {
              "outlinewidth": 0,
              "ticks": ""
             }
            },
            "type": "parcoords"
           }
          ],
          "pie": [
           {
            "automargin": true,
            "type": "pie"
           }
          ],
          "scatter": [
           {
            "fillpattern": {
             "fillmode": "overlay",
             "size": 10,
             "solidity": 0.2
            },
            "type": "scatter"
           }
          ],
          "scatter3d": [
           {
            "line": {
             "colorbar": {
              "outlinewidth": 0,
              "ticks": ""
             }
            },
            "marker": {
             "colorbar": {
              "outlinewidth": 0,
              "ticks": ""
             }
            },
            "type": "scatter3d"
           }
          ],
          "scattercarpet": [
           {
            "marker": {
             "colorbar": {
              "outlinewidth": 0,
              "ticks": ""
             }
            },
            "type": "scattercarpet"
           }
          ],
          "scattergeo": [
           {
            "marker": {
             "colorbar": {
              "outlinewidth": 0,
              "ticks": ""
             }
            },
            "type": "scattergeo"
           }
          ],
          "scattergl": [
           {
            "marker": {
             "colorbar": {
              "outlinewidth": 0,
              "ticks": ""
             }
            },
            "type": "scattergl"
           }
          ],
          "scattermap": [
           {
            "marker": {
             "colorbar": {
              "outlinewidth": 0,
              "ticks": ""
             }
            },
            "type": "scattermap"
           }
          ],
          "scattermapbox": [
           {
            "marker": {
             "colorbar": {
              "outlinewidth": 0,
              "ticks": ""
             }
            },
            "type": "scattermapbox"
           }
          ],
          "scatterpolar": [
           {
            "marker": {
             "colorbar": {
              "outlinewidth": 0,
              "ticks": ""
             }
            },
            "type": "scatterpolar"
           }
          ],
          "scatterpolargl": [
           {
            "marker": {
             "colorbar": {
              "outlinewidth": 0,
              "ticks": ""
             }
            },
            "type": "scatterpolargl"
           }
          ],
          "scatterternary": [
           {
            "marker": {
             "colorbar": {
              "outlinewidth": 0,
              "ticks": ""
             }
            },
            "type": "scatterternary"
           }
          ],
          "surface": [
           {
            "colorbar": {
             "outlinewidth": 0,
             "ticks": ""
            },
            "colorscale": [
             [
              0,
              "#0d0887"
             ],
             [
              0.1111111111111111,
              "#46039f"
             ],
             [
              0.2222222222222222,
              "#7201a8"
             ],
             [
              0.3333333333333333,
              "#9c179e"
             ],
             [
              0.4444444444444444,
              "#bd3786"
             ],
             [
              0.5555555555555556,
              "#d8576b"
             ],
             [
              0.6666666666666666,
              "#ed7953"
             ],
             [
              0.7777777777777778,
              "#fb9f3a"
             ],
             [
              0.8888888888888888,
              "#fdca26"
             ],
             [
              1,
              "#f0f921"
             ]
            ],
            "type": "surface"
           }
          ],
          "table": [
           {
            "cells": {
             "fill": {
              "color": "#EBF0F8"
             },
             "line": {
              "color": "white"
             }
            },
            "header": {
             "fill": {
              "color": "#C8D4E3"
             },
             "line": {
              "color": "white"
             }
            },
            "type": "table"
           }
          ]
         },
         "layout": {
          "annotationdefaults": {
           "arrowcolor": "#2a3f5f",
           "arrowhead": 0,
           "arrowwidth": 1
          },
          "autotypenumbers": "strict",
          "coloraxis": {
           "colorbar": {
            "outlinewidth": 0,
            "ticks": ""
           }
          },
          "colorscale": {
           "diverging": [
            [
             0,
             "#8e0152"
            ],
            [
             0.1,
             "#c51b7d"
            ],
            [
             0.2,
             "#de77ae"
            ],
            [
             0.3,
             "#f1b6da"
            ],
            [
             0.4,
             "#fde0ef"
            ],
            [
             0.5,
             "#f7f7f7"
            ],
            [
             0.6,
             "#e6f5d0"
            ],
            [
             0.7,
             "#b8e186"
            ],
            [
             0.8,
             "#7fbc41"
            ],
            [
             0.9,
             "#4d9221"
            ],
            [
             1,
             "#276419"
            ]
           ],
           "sequential": [
            [
             0,
             "#0d0887"
            ],
            [
             0.1111111111111111,
             "#46039f"
            ],
            [
             0.2222222222222222,
             "#7201a8"
            ],
            [
             0.3333333333333333,
             "#9c179e"
            ],
            [
             0.4444444444444444,
             "#bd3786"
            ],
            [
             0.5555555555555556,
             "#d8576b"
            ],
            [
             0.6666666666666666,
             "#ed7953"
            ],
            [
             0.7777777777777778,
             "#fb9f3a"
            ],
            [
             0.8888888888888888,
             "#fdca26"
            ],
            [
             1,
             "#f0f921"
            ]
           ],
           "sequentialminus": [
            [
             0,
             "#0d0887"
            ],
            [
             0.1111111111111111,
             "#46039f"
            ],
            [
             0.2222222222222222,
             "#7201a8"
            ],
            [
             0.3333333333333333,
             "#9c179e"
            ],
            [
             0.4444444444444444,
             "#bd3786"
            ],
            [
             0.5555555555555556,
             "#d8576b"
            ],
            [
             0.6666666666666666,
             "#ed7953"
            ],
            [
             0.7777777777777778,
             "#fb9f3a"
            ],
            [
             0.8888888888888888,
             "#fdca26"
            ],
            [
             1,
             "#f0f921"
            ]
           ]
          },
          "colorway": [
           "#636efa",
           "#EF553B",
           "#00cc96",
           "#ab63fa",
           "#FFA15A",
           "#19d3f3",
           "#FF6692",
           "#B6E880",
           "#FF97FF",
           "#FECB52"
          ],
          "font": {
           "color": "#2a3f5f"
          },
          "geo": {
           "bgcolor": "white",
           "lakecolor": "white",
           "landcolor": "white",
           "showlakes": true,
           "showland": true,
           "subunitcolor": "#C8D4E3"
          },
          "hoverlabel": {
           "align": "left"
          },
          "hovermode": "closest",
          "mapbox": {
           "style": "light"
          },
          "paper_bgcolor": "white",
          "plot_bgcolor": "white",
          "polar": {
           "angularaxis": {
            "gridcolor": "#EBF0F8",
            "linecolor": "#EBF0F8",
            "ticks": ""
           },
           "bgcolor": "white",
           "radialaxis": {
            "gridcolor": "#EBF0F8",
            "linecolor": "#EBF0F8",
            "ticks": ""
           }
          },
          "scene": {
           "xaxis": {
            "backgroundcolor": "white",
            "gridcolor": "#DFE8F3",
            "gridwidth": 2,
            "linecolor": "#EBF0F8",
            "showbackground": true,
            "ticks": "",
            "zerolinecolor": "#EBF0F8"
           },
           "yaxis": {
            "backgroundcolor": "white",
            "gridcolor": "#DFE8F3",
            "gridwidth": 2,
            "linecolor": "#EBF0F8",
            "showbackground": true,
            "ticks": "",
            "zerolinecolor": "#EBF0F8"
           },
           "zaxis": {
            "backgroundcolor": "white",
            "gridcolor": "#DFE8F3",
            "gridwidth": 2,
            "linecolor": "#EBF0F8",
            "showbackground": true,
            "ticks": "",
            "zerolinecolor": "#EBF0F8"
           }
          },
          "shapedefaults": {
           "line": {
            "color": "#2a3f5f"
           }
          },
          "ternary": {
           "aaxis": {
            "gridcolor": "#DFE8F3",
            "linecolor": "#A2B1C6",
            "ticks": ""
           },
           "baxis": {
            "gridcolor": "#DFE8F3",
            "linecolor": "#A2B1C6",
            "ticks": ""
           },
           "bgcolor": "white",
           "caxis": {
            "gridcolor": "#DFE8F3",
            "linecolor": "#A2B1C6",
            "ticks": ""
           }
          },
          "title": {
           "x": 0.05
          },
          "xaxis": {
           "automargin": true,
           "gridcolor": "#EBF0F8",
           "linecolor": "#EBF0F8",
           "ticks": "",
           "title": {
            "standoff": 15
           },
           "zerolinecolor": "#EBF0F8",
           "zerolinewidth": 2
          },
          "yaxis": {
           "automargin": true,
           "gridcolor": "#EBF0F8",
           "linecolor": "#EBF0F8",
           "ticks": "",
           "title": {
            "standoff": 15
           },
           "zerolinecolor": "#EBF0F8",
           "zerolinewidth": 2
          }
         }
        },
        "title": {
         "font": {
          "color": "Black",
          "size": 22
         },
         "text": "<b>Term score decline per Topic</b>",
         "x": 0.5,
         "xanchor": "center",
         "y": 0.9,
         "yanchor": "top"
        },
        "width": 800,
        "xaxis": {
         "dtick": 2,
         "range": [
          0,
          50
         ],
         "tick0": 1,
         "title": {
          "text": "Term Rank"
         }
        },
        "yaxis": {
         "title": {
          "text": "c-TF-IDF score"
         }
        }
       }
      }
     },
     "metadata": {},
     "output_type": "display_data"
    }
   ],
   "source": [
    "topic_model.visualize_term_rank()"
   ]
  },
  {
   "cell_type": "code",
   "execution_count": 297,
   "id": "b094b10e",
   "metadata": {},
   "outputs": [
    {
     "data": {
      "application/vnd.plotly.v1+json": {
       "config": {
        "plotlyServerURL": "https://plot.ly"
       },
       "data": [
        {
         "customdata": [
          [
           0,
           "state | finite | 39 | 𝑠0 | grammar",
           10
          ],
          [
           1,
           "journal | arxiv | and | learning | in",
           9
          ],
          [
           2,
           "matrix | the | is | of | covariance",
           9
          ],
          [
           3,
           "fuzzy | set | sets | xi | the",
           8
          ],
          [
           4,
           "https | url | org | 2024 | arxiv",
           8
          ],
          [
           5,
           "dataset | thai | to | the | quality",
           8
          ],
          [
           6,
           "arxiv | neural | and | preprint | 2016",
           8
          ],
          [
           7,
           "attention | layer | the | layers | sequence",
           7
          ],
          [
           8,
           "the | vij | pij | wij | algorithm",
           7
          ],
          [
           9,
           "findings | experimental | setup | results | speech",
           6
          ],
          [
           10,
           "association | arxiv | linguistics | computational | language",
           6
          ],
          [
           11,
           "topic | modeling | topics | and | words",
           6
          ],
          [
           12,
           "finreal | finsing | functor | adjoint | simplicial",
           5
          ],
          [
           13,
           "equation | xˆvi | matrix | vectors | the",
           5
          ],
          [
           14,
           "umap | in | of | section | structure",
           5
          ],
          [
           15,
           "014 | 013 | 015 | 002 | 017",
           5
          ],
          [
           16,
           "policy | topic | trade | coherence | crime",
           4
          ],
          [
           17,
           "model | 70b | al | et | wsj",
           4
          ],
          [
           18,
           "1020 | math | table | 1019 | dataset",
           4
          ],
          [
           19,
           "agentic | content | agent | the | refine",
           4
          ],
          [
           20,
           "judge | bench | thai | the | gpt",
           4
          ],
          [
           21,
           "cluster | words | each | sentence | topic",
           3
          ],
          [
           22,
           "thai | language | on | pretraining | llms",
           3
          ],
          [
           23,
           "math | context | performance | code | coding",
           3
          ],
          [
           24,
           "tokenizer | tokens | the | training | big",
           3
          ]
         ],
         "hovertemplate": "<b>Topic %{customdata[0]}</b><br>%{customdata[1]}<br>Size: %{customdata[2]}",
         "legendgroup": "",
         "marker": {
          "color": "#B0BEC5",
          "line": {
           "color": "DarkSlateGrey",
           "width": 2
          },
          "size": {
           "bdata": "CgkJCAgICAcHBgYGBQUFBQQEBAQEAwMDAw==",
           "dtype": "i1"
          },
          "sizemode": "area",
          "sizeref": 0.00625,
          "symbol": "circle"
         },
         "mode": "markers",
         "name": "",
         "orientation": "v",
         "showlegend": false,
         "type": "scatter",
         "x": {
          "bdata": "oOQ7QRIKmUGEv0hBHmM/QeSs6EE99BfBtNSXQQjthb8IWENBqkRQQees6EECz+xAsWM8QW/4TEGJOY2//p6bQfWn80DqXp9BSmCcQXeoGcEP2J1BaGPjQO3VHsGKOhTBoSW3vw==",
          "dtype": "f4"
         },
         "xaxis": "x",
         "y": {
          "bdata": "4KCvPLUdDD/eWbg/SdQiPyUPcMGIjpPAKckyPy/qD0FAuX4/gPABQCwPcMHJzc5Bn+ZgPkXy5j9xAA9B/tFkQX4XzUFQT11B/lBjQdMlkMB2YGBBfCjRQVrJhcCpAJvAw8IJQQ==",
          "dtype": "f4"
         },
         "yaxis": "y"
        }
       ],
       "layout": {
        "annotations": [
         {
          "showarrow": false,
          "text": "D1",
          "x": -11.416312170028686,
          "y": 6.406111621856688,
          "yshift": 10
         },
         {
          "showarrow": false,
          "text": "D2",
          "x": 11.01538827419281,
          "xshift": 10,
          "y": 30.066482925415038
         }
        ],
        "height": 650,
        "hoverlabel": {
         "bgcolor": "white",
         "font": {
          "family": "Rockwell",
          "size": 16
         }
        },
        "legend": {
         "itemsizing": "constant",
         "tracegroupgap": 0
        },
        "margin": {
         "t": 60
        },
        "shapes": [
         {
          "line": {
           "color": "#CFD8DC",
           "width": 2
          },
          "type": "line",
          "x0": 11.01538827419281,
          "x1": 11.01538827419281,
          "y0": -17.25425968170166,
          "y1": 30.066482925415038
         },
         {
          "line": {
           "color": "#9E9E9E",
           "width": 2
          },
          "type": "line",
          "x0": -11.416312170028686,
          "x1": 33.44708871841431,
          "y0": 6.406111621856688,
          "y1": 6.406111621856688
         }
        ],
        "sliders": [
         {
          "active": 0,
          "pad": {
           "t": 50
          },
          "steps": [
           {
            "args": [
             {
              "marker.color": [
               [
                "red",
                "#B0BEC5",
                "#B0BEC5",
                "#B0BEC5",
                "#B0BEC5",
                "#B0BEC5",
                "#B0BEC5",
                "#B0BEC5",
                "#B0BEC5",
                "#B0BEC5",
                "#B0BEC5",
                "#B0BEC5",
                "#B0BEC5",
                "#B0BEC5",
                "#B0BEC5",
                "#B0BEC5",
                "#B0BEC5",
                "#B0BEC5",
                "#B0BEC5",
                "#B0BEC5",
                "#B0BEC5",
                "#B0BEC5",
                "#B0BEC5",
                "#B0BEC5",
                "#B0BEC5"
               ]
              ]
             }
            ],
            "label": "Topic 0",
            "method": "update"
           },
           {
            "args": [
             {
              "marker.color": [
               [
                "#B0BEC5",
                "red",
                "#B0BEC5",
                "#B0BEC5",
                "#B0BEC5",
                "#B0BEC5",
                "#B0BEC5",
                "#B0BEC5",
                "#B0BEC5",
                "#B0BEC5",
                "#B0BEC5",
                "#B0BEC5",
                "#B0BEC5",
                "#B0BEC5",
                "#B0BEC5",
                "#B0BEC5",
                "#B0BEC5",
                "#B0BEC5",
                "#B0BEC5",
                "#B0BEC5",
                "#B0BEC5",
                "#B0BEC5",
                "#B0BEC5",
                "#B0BEC5",
                "#B0BEC5"
               ]
              ]
             }
            ],
            "label": "Topic 1",
            "method": "update"
           },
           {
            "args": [
             {
              "marker.color": [
               [
                "#B0BEC5",
                "#B0BEC5",
                "red",
                "#B0BEC5",
                "#B0BEC5",
                "#B0BEC5",
                "#B0BEC5",
                "#B0BEC5",
                "#B0BEC5",
                "#B0BEC5",
                "#B0BEC5",
                "#B0BEC5",
                "#B0BEC5",
                "#B0BEC5",
                "#B0BEC5",
                "#B0BEC5",
                "#B0BEC5",
                "#B0BEC5",
                "#B0BEC5",
                "#B0BEC5",
                "#B0BEC5",
                "#B0BEC5",
                "#B0BEC5",
                "#B0BEC5",
                "#B0BEC5"
               ]
              ]
             }
            ],
            "label": "Topic 2",
            "method": "update"
           },
           {
            "args": [
             {
              "marker.color": [
               [
                "#B0BEC5",
                "#B0BEC5",
                "#B0BEC5",
                "red",
                "#B0BEC5",
                "#B0BEC5",
                "#B0BEC5",
                "#B0BEC5",
                "#B0BEC5",
                "#B0BEC5",
                "#B0BEC5",
                "#B0BEC5",
                "#B0BEC5",
                "#B0BEC5",
                "#B0BEC5",
                "#B0BEC5",
                "#B0BEC5",
                "#B0BEC5",
                "#B0BEC5",
                "#B0BEC5",
                "#B0BEC5",
                "#B0BEC5",
                "#B0BEC5",
                "#B0BEC5",
                "#B0BEC5"
               ]
              ]
             }
            ],
            "label": "Topic 3",
            "method": "update"
           },
           {
            "args": [
             {
              "marker.color": [
               [
                "#B0BEC5",
                "#B0BEC5",
                "#B0BEC5",
                "#B0BEC5",
                "red",
                "#B0BEC5",
                "#B0BEC5",
                "#B0BEC5",
                "#B0BEC5",
                "#B0BEC5",
                "#B0BEC5",
                "#B0BEC5",
                "#B0BEC5",
                "#B0BEC5",
                "#B0BEC5",
                "#B0BEC5",
                "#B0BEC5",
                "#B0BEC5",
                "#B0BEC5",
                "#B0BEC5",
                "#B0BEC5",
                "#B0BEC5",
                "#B0BEC5",
                "#B0BEC5",
                "#B0BEC5"
               ]
              ]
             }
            ],
            "label": "Topic 4",
            "method": "update"
           },
           {
            "args": [
             {
              "marker.color": [
               [
                "#B0BEC5",
                "#B0BEC5",
                "#B0BEC5",
                "#B0BEC5",
                "#B0BEC5",
                "red",
                "#B0BEC5",
                "#B0BEC5",
                "#B0BEC5",
                "#B0BEC5",
                "#B0BEC5",
                "#B0BEC5",
                "#B0BEC5",
                "#B0BEC5",
                "#B0BEC5",
                "#B0BEC5",
                "#B0BEC5",
                "#B0BEC5",
                "#B0BEC5",
                "#B0BEC5",
                "#B0BEC5",
                "#B0BEC5",
                "#B0BEC5",
                "#B0BEC5",
                "#B0BEC5"
               ]
              ]
             }
            ],
            "label": "Topic 5",
            "method": "update"
           },
           {
            "args": [
             {
              "marker.color": [
               [
                "#B0BEC5",
                "#B0BEC5",
                "#B0BEC5",
                "#B0BEC5",
                "#B0BEC5",
                "#B0BEC5",
                "red",
                "#B0BEC5",
                "#B0BEC5",
                "#B0BEC5",
                "#B0BEC5",
                "#B0BEC5",
                "#B0BEC5",
                "#B0BEC5",
                "#B0BEC5",
                "#B0BEC5",
                "#B0BEC5",
                "#B0BEC5",
                "#B0BEC5",
                "#B0BEC5",
                "#B0BEC5",
                "#B0BEC5",
                "#B0BEC5",
                "#B0BEC5",
                "#B0BEC5"
               ]
              ]
             }
            ],
            "label": "Topic 6",
            "method": "update"
           },
           {
            "args": [
             {
              "marker.color": [
               [
                "#B0BEC5",
                "#B0BEC5",
                "#B0BEC5",
                "#B0BEC5",
                "#B0BEC5",
                "#B0BEC5",
                "#B0BEC5",
                "red",
                "#B0BEC5",
                "#B0BEC5",
                "#B0BEC5",
                "#B0BEC5",
                "#B0BEC5",
                "#B0BEC5",
                "#B0BEC5",
                "#B0BEC5",
                "#B0BEC5",
                "#B0BEC5",
                "#B0BEC5",
                "#B0BEC5",
                "#B0BEC5",
                "#B0BEC5",
                "#B0BEC5",
                "#B0BEC5",
                "#B0BEC5"
               ]
              ]
             }
            ],
            "label": "Topic 7",
            "method": "update"
           },
           {
            "args": [
             {
              "marker.color": [
               [
                "#B0BEC5",
                "#B0BEC5",
                "#B0BEC5",
                "#B0BEC5",
                "#B0BEC5",
                "#B0BEC5",
                "#B0BEC5",
                "#B0BEC5",
                "red",
                "#B0BEC5",
                "#B0BEC5",
                "#B0BEC5",
                "#B0BEC5",
                "#B0BEC5",
                "#B0BEC5",
                "#B0BEC5",
                "#B0BEC5",
                "#B0BEC5",
                "#B0BEC5",
                "#B0BEC5",
                "#B0BEC5",
                "#B0BEC5",
                "#B0BEC5",
                "#B0BEC5",
                "#B0BEC5"
               ]
              ]
             }
            ],
            "label": "Topic 8",
            "method": "update"
           },
           {
            "args": [
             {
              "marker.color": [
               [
                "#B0BEC5",
                "#B0BEC5",
                "#B0BEC5",
                "#B0BEC5",
                "#B0BEC5",
                "#B0BEC5",
                "#B0BEC5",
                "#B0BEC5",
                "#B0BEC5",
                "red",
                "#B0BEC5",
                "#B0BEC5",
                "#B0BEC5",
                "#B0BEC5",
                "#B0BEC5",
                "#B0BEC5",
                "#B0BEC5",
                "#B0BEC5",
                "#B0BEC5",
                "#B0BEC5",
                "#B0BEC5",
                "#B0BEC5",
                "#B0BEC5",
                "#B0BEC5",
                "#B0BEC5"
               ]
              ]
             }
            ],
            "label": "Topic 9",
            "method": "update"
           },
           {
            "args": [
             {
              "marker.color": [
               [
                "#B0BEC5",
                "#B0BEC5",
                "#B0BEC5",
                "#B0BEC5",
                "#B0BEC5",
                "#B0BEC5",
                "#B0BEC5",
                "#B0BEC5",
                "#B0BEC5",
                "#B0BEC5",
                "red",
                "#B0BEC5",
                "#B0BEC5",
                "#B0BEC5",
                "#B0BEC5",
                "#B0BEC5",
                "#B0BEC5",
                "#B0BEC5",
                "#B0BEC5",
                "#B0BEC5",
                "#B0BEC5",
                "#B0BEC5",
                "#B0BEC5",
                "#B0BEC5",
                "#B0BEC5"
               ]
              ]
             }
            ],
            "label": "Topic 10",
            "method": "update"
           },
           {
            "args": [
             {
              "marker.color": [
               [
                "#B0BEC5",
                "#B0BEC5",
                "#B0BEC5",
                "#B0BEC5",
                "#B0BEC5",
                "#B0BEC5",
                "#B0BEC5",
                "#B0BEC5",
                "#B0BEC5",
                "#B0BEC5",
                "#B0BEC5",
                "red",
                "#B0BEC5",
                "#B0BEC5",
                "#B0BEC5",
                "#B0BEC5",
                "#B0BEC5",
                "#B0BEC5",
                "#B0BEC5",
                "#B0BEC5",
                "#B0BEC5",
                "#B0BEC5",
                "#B0BEC5",
                "#B0BEC5",
                "#B0BEC5"
               ]
              ]
             }
            ],
            "label": "Topic 11",
            "method": "update"
           },
           {
            "args": [
             {
              "marker.color": [
               [
                "#B0BEC5",
                "#B0BEC5",
                "#B0BEC5",
                "#B0BEC5",
                "#B0BEC5",
                "#B0BEC5",
                "#B0BEC5",
                "#B0BEC5",
                "#B0BEC5",
                "#B0BEC5",
                "#B0BEC5",
                "#B0BEC5",
                "red",
                "#B0BEC5",
                "#B0BEC5",
                "#B0BEC5",
                "#B0BEC5",
                "#B0BEC5",
                "#B0BEC5",
                "#B0BEC5",
                "#B0BEC5",
                "#B0BEC5",
                "#B0BEC5",
                "#B0BEC5",
                "#B0BEC5"
               ]
              ]
             }
            ],
            "label": "Topic 12",
            "method": "update"
           },
           {
            "args": [
             {
              "marker.color": [
               [
                "#B0BEC5",
                "#B0BEC5",
                "#B0BEC5",
                "#B0BEC5",
                "#B0BEC5",
                "#B0BEC5",
                "#B0BEC5",
                "#B0BEC5",
                "#B0BEC5",
                "#B0BEC5",
                "#B0BEC5",
                "#B0BEC5",
                "#B0BEC5",
                "red",
                "#B0BEC5",
                "#B0BEC5",
                "#B0BEC5",
                "#B0BEC5",
                "#B0BEC5",
                "#B0BEC5",
                "#B0BEC5",
                "#B0BEC5",
                "#B0BEC5",
                "#B0BEC5",
                "#B0BEC5"
               ]
              ]
             }
            ],
            "label": "Topic 13",
            "method": "update"
           },
           {
            "args": [
             {
              "marker.color": [
               [
                "#B0BEC5",
                "#B0BEC5",
                "#B0BEC5",
                "#B0BEC5",
                "#B0BEC5",
                "#B0BEC5",
                "#B0BEC5",
                "#B0BEC5",
                "#B0BEC5",
                "#B0BEC5",
                "#B0BEC5",
                "#B0BEC5",
                "#B0BEC5",
                "#B0BEC5",
                "red",
                "#B0BEC5",
                "#B0BEC5",
                "#B0BEC5",
                "#B0BEC5",
                "#B0BEC5",
                "#B0BEC5",
                "#B0BEC5",
                "#B0BEC5",
                "#B0BEC5",
                "#B0BEC5"
               ]
              ]
             }
            ],
            "label": "Topic 14",
            "method": "update"
           },
           {
            "args": [
             {
              "marker.color": [
               [
                "#B0BEC5",
                "#B0BEC5",
                "#B0BEC5",
                "#B0BEC5",
                "#B0BEC5",
                "#B0BEC5",
                "#B0BEC5",
                "#B0BEC5",
                "#B0BEC5",
                "#B0BEC5",
                "#B0BEC5",
                "#B0BEC5",
                "#B0BEC5",
                "#B0BEC5",
                "#B0BEC5",
                "red",
                "#B0BEC5",
                "#B0BEC5",
                "#B0BEC5",
                "#B0BEC5",
                "#B0BEC5",
                "#B0BEC5",
                "#B0BEC5",
                "#B0BEC5",
                "#B0BEC5"
               ]
              ]
             }
            ],
            "label": "Topic 15",
            "method": "update"
           },
           {
            "args": [
             {
              "marker.color": [
               [
                "#B0BEC5",
                "#B0BEC5",
                "#B0BEC5",
                "#B0BEC5",
                "#B0BEC5",
                "#B0BEC5",
                "#B0BEC5",
                "#B0BEC5",
                "#B0BEC5",
                "#B0BEC5",
                "#B0BEC5",
                "#B0BEC5",
                "#B0BEC5",
                "#B0BEC5",
                "#B0BEC5",
                "#B0BEC5",
                "red",
                "#B0BEC5",
                "#B0BEC5",
                "#B0BEC5",
                "#B0BEC5",
                "#B0BEC5",
                "#B0BEC5",
                "#B0BEC5",
                "#B0BEC5"
               ]
              ]
             }
            ],
            "label": "Topic 16",
            "method": "update"
           },
           {
            "args": [
             {
              "marker.color": [
               [
                "#B0BEC5",
                "#B0BEC5",
                "#B0BEC5",
                "#B0BEC5",
                "#B0BEC5",
                "#B0BEC5",
                "#B0BEC5",
                "#B0BEC5",
                "#B0BEC5",
                "#B0BEC5",
                "#B0BEC5",
                "#B0BEC5",
                "#B0BEC5",
                "#B0BEC5",
                "#B0BEC5",
                "#B0BEC5",
                "#B0BEC5",
                "red",
                "#B0BEC5",
                "#B0BEC5",
                "#B0BEC5",
                "#B0BEC5",
                "#B0BEC5",
                "#B0BEC5",
                "#B0BEC5"
               ]
              ]
             }
            ],
            "label": "Topic 17",
            "method": "update"
           },
           {
            "args": [
             {
              "marker.color": [
               [
                "#B0BEC5",
                "#B0BEC5",
                "#B0BEC5",
                "#B0BEC5",
                "#B0BEC5",
                "#B0BEC5",
                "#B0BEC5",
                "#B0BEC5",
                "#B0BEC5",
                "#B0BEC5",
                "#B0BEC5",
                "#B0BEC5",
                "#B0BEC5",
                "#B0BEC5",
                "#B0BEC5",
                "#B0BEC5",
                "#B0BEC5",
                "#B0BEC5",
                "red",
                "#B0BEC5",
                "#B0BEC5",
                "#B0BEC5",
                "#B0BEC5",
                "#B0BEC5",
                "#B0BEC5"
               ]
              ]
             }
            ],
            "label": "Topic 18",
            "method": "update"
           },
           {
            "args": [
             {
              "marker.color": [
               [
                "#B0BEC5",
                "#B0BEC5",
                "#B0BEC5",
                "#B0BEC5",
                "#B0BEC5",
                "#B0BEC5",
                "#B0BEC5",
                "#B0BEC5",
                "#B0BEC5",
                "#B0BEC5",
                "#B0BEC5",
                "#B0BEC5",
                "#B0BEC5",
                "#B0BEC5",
                "#B0BEC5",
                "#B0BEC5",
                "#B0BEC5",
                "#B0BEC5",
                "#B0BEC5",
                "red",
                "#B0BEC5",
                "#B0BEC5",
                "#B0BEC5",
                "#B0BEC5",
                "#B0BEC5"
               ]
              ]
             }
            ],
            "label": "Topic 19",
            "method": "update"
           },
           {
            "args": [
             {
              "marker.color": [
               [
                "#B0BEC5",
                "#B0BEC5",
                "#B0BEC5",
                "#B0BEC5",
                "#B0BEC5",
                "#B0BEC5",
                "#B0BEC5",
                "#B0BEC5",
                "#B0BEC5",
                "#B0BEC5",
                "#B0BEC5",
                "#B0BEC5",
                "#B0BEC5",
                "#B0BEC5",
                "#B0BEC5",
                "#B0BEC5",
                "#B0BEC5",
                "#B0BEC5",
                "#B0BEC5",
                "#B0BEC5",
                "red",
                "#B0BEC5",
                "#B0BEC5",
                "#B0BEC5",
                "#B0BEC5"
               ]
              ]
             }
            ],
            "label": "Topic 20",
            "method": "update"
           },
           {
            "args": [
             {
              "marker.color": [
               [
                "#B0BEC5",
                "#B0BEC5",
                "#B0BEC5",
                "#B0BEC5",
                "#B0BEC5",
                "#B0BEC5",
                "#B0BEC5",
                "#B0BEC5",
                "#B0BEC5",
                "#B0BEC5",
                "#B0BEC5",
                "#B0BEC5",
                "#B0BEC5",
                "#B0BEC5",
                "#B0BEC5",
                "#B0BEC5",
                "#B0BEC5",
                "#B0BEC5",
                "#B0BEC5",
                "#B0BEC5",
                "#B0BEC5",
                "red",
                "#B0BEC5",
                "#B0BEC5",
                "#B0BEC5"
               ]
              ]
             }
            ],
            "label": "Topic 21",
            "method": "update"
           },
           {
            "args": [
             {
              "marker.color": [
               [
                "#B0BEC5",
                "#B0BEC5",
                "#B0BEC5",
                "#B0BEC5",
                "#B0BEC5",
                "#B0BEC5",
                "#B0BEC5",
                "#B0BEC5",
                "#B0BEC5",
                "#B0BEC5",
                "#B0BEC5",
                "#B0BEC5",
                "#B0BEC5",
                "#B0BEC5",
                "#B0BEC5",
                "#B0BEC5",
                "#B0BEC5",
                "#B0BEC5",
                "#B0BEC5",
                "#B0BEC5",
                "#B0BEC5",
                "#B0BEC5",
                "red",
                "#B0BEC5",
                "#B0BEC5"
               ]
              ]
             }
            ],
            "label": "Topic 22",
            "method": "update"
           },
           {
            "args": [
             {
              "marker.color": [
               [
                "#B0BEC5",
                "#B0BEC5",
                "#B0BEC5",
                "#B0BEC5",
                "#B0BEC5",
                "#B0BEC5",
                "#B0BEC5",
                "#B0BEC5",
                "#B0BEC5",
                "#B0BEC5",
                "#B0BEC5",
                "#B0BEC5",
                "#B0BEC5",
                "#B0BEC5",
                "#B0BEC5",
                "#B0BEC5",
                "#B0BEC5",
                "#B0BEC5",
                "#B0BEC5",
                "#B0BEC5",
                "#B0BEC5",
                "#B0BEC5",
                "#B0BEC5",
                "red",
                "#B0BEC5"
               ]
              ]
             }
            ],
            "label": "Topic 23",
            "method": "update"
           },
           {
            "args": [
             {
              "marker.color": [
               [
                "#B0BEC5",
                "#B0BEC5",
                "#B0BEC5",
                "#B0BEC5",
                "#B0BEC5",
                "#B0BEC5",
                "#B0BEC5",
                "#B0BEC5",
                "#B0BEC5",
                "#B0BEC5",
                "#B0BEC5",
                "#B0BEC5",
                "#B0BEC5",
                "#B0BEC5",
                "#B0BEC5",
                "#B0BEC5",
                "#B0BEC5",
                "#B0BEC5",
                "#B0BEC5",
                "#B0BEC5",
                "#B0BEC5",
                "#B0BEC5",
                "#B0BEC5",
                "#B0BEC5",
                "red"
               ]
              ]
             }
            ],
            "label": "Topic 24",
            "method": "update"
           }
          ]
         }
        ],
        "template": {
         "data": {
          "bar": [
           {
            "error_x": {
             "color": "rgb(36,36,36)"
            },
            "error_y": {
             "color": "rgb(36,36,36)"
            },
            "marker": {
             "line": {
              "color": "white",
              "width": 0.5
             },
             "pattern": {
              "fillmode": "overlay",
              "size": 10,
              "solidity": 0.2
             }
            },
            "type": "bar"
           }
          ],
          "barpolar": [
           {
            "marker": {
             "line": {
              "color": "white",
              "width": 0.5
             },
             "pattern": {
              "fillmode": "overlay",
              "size": 10,
              "solidity": 0.2
             }
            },
            "type": "barpolar"
           }
          ],
          "carpet": [
           {
            "aaxis": {
             "endlinecolor": "rgb(36,36,36)",
             "gridcolor": "white",
             "linecolor": "white",
             "minorgridcolor": "white",
             "startlinecolor": "rgb(36,36,36)"
            },
            "baxis": {
             "endlinecolor": "rgb(36,36,36)",
             "gridcolor": "white",
             "linecolor": "white",
             "minorgridcolor": "white",
             "startlinecolor": "rgb(36,36,36)"
            },
            "type": "carpet"
           }
          ],
          "choropleth": [
           {
            "colorbar": {
             "outlinewidth": 1,
             "tickcolor": "rgb(36,36,36)",
             "ticks": "outside"
            },
            "type": "choropleth"
           }
          ],
          "contour": [
           {
            "colorbar": {
             "outlinewidth": 1,
             "tickcolor": "rgb(36,36,36)",
             "ticks": "outside"
            },
            "colorscale": [
             [
              0,
              "#440154"
             ],
             [
              0.1111111111111111,
              "#482878"
             ],
             [
              0.2222222222222222,
              "#3e4989"
             ],
             [
              0.3333333333333333,
              "#31688e"
             ],
             [
              0.4444444444444444,
              "#26828e"
             ],
             [
              0.5555555555555556,
              "#1f9e89"
             ],
             [
              0.6666666666666666,
              "#35b779"
             ],
             [
              0.7777777777777778,
              "#6ece58"
             ],
             [
              0.8888888888888888,
              "#b5de2b"
             ],
             [
              1,
              "#fde725"
             ]
            ],
            "type": "contour"
           }
          ],
          "contourcarpet": [
           {
            "colorbar": {
             "outlinewidth": 1,
             "tickcolor": "rgb(36,36,36)",
             "ticks": "outside"
            },
            "type": "contourcarpet"
           }
          ],
          "heatmap": [
           {
            "colorbar": {
             "outlinewidth": 1,
             "tickcolor": "rgb(36,36,36)",
             "ticks": "outside"
            },
            "colorscale": [
             [
              0,
              "#440154"
             ],
             [
              0.1111111111111111,
              "#482878"
             ],
             [
              0.2222222222222222,
              "#3e4989"
             ],
             [
              0.3333333333333333,
              "#31688e"
             ],
             [
              0.4444444444444444,
              "#26828e"
             ],
             [
              0.5555555555555556,
              "#1f9e89"
             ],
             [
              0.6666666666666666,
              "#35b779"
             ],
             [
              0.7777777777777778,
              "#6ece58"
             ],
             [
              0.8888888888888888,
              "#b5de2b"
             ],
             [
              1,
              "#fde725"
             ]
            ],
            "type": "heatmap"
           }
          ],
          "histogram": [
           {
            "marker": {
             "line": {
              "color": "white",
              "width": 0.6
             }
            },
            "type": "histogram"
           }
          ],
          "histogram2d": [
           {
            "colorbar": {
             "outlinewidth": 1,
             "tickcolor": "rgb(36,36,36)",
             "ticks": "outside"
            },
            "colorscale": [
             [
              0,
              "#440154"
             ],
             [
              0.1111111111111111,
              "#482878"
             ],
             [
              0.2222222222222222,
              "#3e4989"
             ],
             [
              0.3333333333333333,
              "#31688e"
             ],
             [
              0.4444444444444444,
              "#26828e"
             ],
             [
              0.5555555555555556,
              "#1f9e89"
             ],
             [
              0.6666666666666666,
              "#35b779"
             ],
             [
              0.7777777777777778,
              "#6ece58"
             ],
             [
              0.8888888888888888,
              "#b5de2b"
             ],
             [
              1,
              "#fde725"
             ]
            ],
            "type": "histogram2d"
           }
          ],
          "histogram2dcontour": [
           {
            "colorbar": {
             "outlinewidth": 1,
             "tickcolor": "rgb(36,36,36)",
             "ticks": "outside"
            },
            "colorscale": [
             [
              0,
              "#440154"
             ],
             [
              0.1111111111111111,
              "#482878"
             ],
             [
              0.2222222222222222,
              "#3e4989"
             ],
             [
              0.3333333333333333,
              "#31688e"
             ],
             [
              0.4444444444444444,
              "#26828e"
             ],
             [
              0.5555555555555556,
              "#1f9e89"
             ],
             [
              0.6666666666666666,
              "#35b779"
             ],
             [
              0.7777777777777778,
              "#6ece58"
             ],
             [
              0.8888888888888888,
              "#b5de2b"
             ],
             [
              1,
              "#fde725"
             ]
            ],
            "type": "histogram2dcontour"
           }
          ],
          "mesh3d": [
           {
            "colorbar": {
             "outlinewidth": 1,
             "tickcolor": "rgb(36,36,36)",
             "ticks": "outside"
            },
            "type": "mesh3d"
           }
          ],
          "parcoords": [
           {
            "line": {
             "colorbar": {
              "outlinewidth": 1,
              "tickcolor": "rgb(36,36,36)",
              "ticks": "outside"
             }
            },
            "type": "parcoords"
           }
          ],
          "pie": [
           {
            "automargin": true,
            "type": "pie"
           }
          ],
          "scatter": [
           {
            "fillpattern": {
             "fillmode": "overlay",
             "size": 10,
             "solidity": 0.2
            },
            "type": "scatter"
           }
          ],
          "scatter3d": [
           {
            "line": {
             "colorbar": {
              "outlinewidth": 1,
              "tickcolor": "rgb(36,36,36)",
              "ticks": "outside"
             }
            },
            "marker": {
             "colorbar": {
              "outlinewidth": 1,
              "tickcolor": "rgb(36,36,36)",
              "ticks": "outside"
             }
            },
            "type": "scatter3d"
           }
          ],
          "scattercarpet": [
           {
            "marker": {
             "colorbar": {
              "outlinewidth": 1,
              "tickcolor": "rgb(36,36,36)",
              "ticks": "outside"
             }
            },
            "type": "scattercarpet"
           }
          ],
          "scattergeo": [
           {
            "marker": {
             "colorbar": {
              "outlinewidth": 1,
              "tickcolor": "rgb(36,36,36)",
              "ticks": "outside"
             }
            },
            "type": "scattergeo"
           }
          ],
          "scattergl": [
           {
            "marker": {
             "colorbar": {
              "outlinewidth": 1,
              "tickcolor": "rgb(36,36,36)",
              "ticks": "outside"
             }
            },
            "type": "scattergl"
           }
          ],
          "scattermap": [
           {
            "marker": {
             "colorbar": {
              "outlinewidth": 1,
              "tickcolor": "rgb(36,36,36)",
              "ticks": "outside"
             }
            },
            "type": "scattermap"
           }
          ],
          "scattermapbox": [
           {
            "marker": {
             "colorbar": {
              "outlinewidth": 1,
              "tickcolor": "rgb(36,36,36)",
              "ticks": "outside"
             }
            },
            "type": "scattermapbox"
           }
          ],
          "scatterpolar": [
           {
            "marker": {
             "colorbar": {
              "outlinewidth": 1,
              "tickcolor": "rgb(36,36,36)",
              "ticks": "outside"
             }
            },
            "type": "scatterpolar"
           }
          ],
          "scatterpolargl": [
           {
            "marker": {
             "colorbar": {
              "outlinewidth": 1,
              "tickcolor": "rgb(36,36,36)",
              "ticks": "outside"
             }
            },
            "type": "scatterpolargl"
           }
          ],
          "scatterternary": [
           {
            "marker": {
             "colorbar": {
              "outlinewidth": 1,
              "tickcolor": "rgb(36,36,36)",
              "ticks": "outside"
             }
            },
            "type": "scatterternary"
           }
          ],
          "surface": [
           {
            "colorbar": {
             "outlinewidth": 1,
             "tickcolor": "rgb(36,36,36)",
             "ticks": "outside"
            },
            "colorscale": [
             [
              0,
              "#440154"
             ],
             [
              0.1111111111111111,
              "#482878"
             ],
             [
              0.2222222222222222,
              "#3e4989"
             ],
             [
              0.3333333333333333,
              "#31688e"
             ],
             [
              0.4444444444444444,
              "#26828e"
             ],
             [
              0.5555555555555556,
              "#1f9e89"
             ],
             [
              0.6666666666666666,
              "#35b779"
             ],
             [
              0.7777777777777778,
              "#6ece58"
             ],
             [
              0.8888888888888888,
              "#b5de2b"
             ],
             [
              1,
              "#fde725"
             ]
            ],
            "type": "surface"
           }
          ],
          "table": [
           {
            "cells": {
             "fill": {
              "color": "rgb(237,237,237)"
             },
             "line": {
              "color": "white"
             }
            },
            "header": {
             "fill": {
              "color": "rgb(217,217,217)"
             },
             "line": {
              "color": "white"
             }
            },
            "type": "table"
           }
          ]
         },
         "layout": {
          "annotationdefaults": {
           "arrowhead": 0,
           "arrowwidth": 1
          },
          "autotypenumbers": "strict",
          "coloraxis": {
           "colorbar": {
            "outlinewidth": 1,
            "tickcolor": "rgb(36,36,36)",
            "ticks": "outside"
           }
          },
          "colorscale": {
           "diverging": [
            [
             0,
             "rgb(103,0,31)"
            ],
            [
             0.1,
             "rgb(178,24,43)"
            ],
            [
             0.2,
             "rgb(214,96,77)"
            ],
            [
             0.3,
             "rgb(244,165,130)"
            ],
            [
             0.4,
             "rgb(253,219,199)"
            ],
            [
             0.5,
             "rgb(247,247,247)"
            ],
            [
             0.6,
             "rgb(209,229,240)"
            ],
            [
             0.7,
             "rgb(146,197,222)"
            ],
            [
             0.8,
             "rgb(67,147,195)"
            ],
            [
             0.9,
             "rgb(33,102,172)"
            ],
            [
             1,
             "rgb(5,48,97)"
            ]
           ],
           "sequential": [
            [
             0,
             "#440154"
            ],
            [
             0.1111111111111111,
             "#482878"
            ],
            [
             0.2222222222222222,
             "#3e4989"
            ],
            [
             0.3333333333333333,
             "#31688e"
            ],
            [
             0.4444444444444444,
             "#26828e"
            ],
            [
             0.5555555555555556,
             "#1f9e89"
            ],
            [
             0.6666666666666666,
             "#35b779"
            ],
            [
             0.7777777777777778,
             "#6ece58"
            ],
            [
             0.8888888888888888,
             "#b5de2b"
            ],
            [
             1,
             "#fde725"
            ]
           ],
           "sequentialminus": [
            [
             0,
             "#440154"
            ],
            [
             0.1111111111111111,
             "#482878"
            ],
            [
             0.2222222222222222,
             "#3e4989"
            ],
            [
             0.3333333333333333,
             "#31688e"
            ],
            [
             0.4444444444444444,
             "#26828e"
            ],
            [
             0.5555555555555556,
             "#1f9e89"
            ],
            [
             0.6666666666666666,
             "#35b779"
            ],
            [
             0.7777777777777778,
             "#6ece58"
            ],
            [
             0.8888888888888888,
             "#b5de2b"
            ],
            [
             1,
             "#fde725"
            ]
           ]
          },
          "colorway": [
           "#1F77B4",
           "#FF7F0E",
           "#2CA02C",
           "#D62728",
           "#9467BD",
           "#8C564B",
           "#E377C2",
           "#7F7F7F",
           "#BCBD22",
           "#17BECF"
          ],
          "font": {
           "color": "rgb(36,36,36)"
          },
          "geo": {
           "bgcolor": "white",
           "lakecolor": "white",
           "landcolor": "white",
           "showlakes": true,
           "showland": true,
           "subunitcolor": "white"
          },
          "hoverlabel": {
           "align": "left"
          },
          "hovermode": "closest",
          "mapbox": {
           "style": "light"
          },
          "paper_bgcolor": "white",
          "plot_bgcolor": "white",
          "polar": {
           "angularaxis": {
            "gridcolor": "rgb(232,232,232)",
            "linecolor": "rgb(36,36,36)",
            "showgrid": false,
            "showline": true,
            "ticks": "outside"
           },
           "bgcolor": "white",
           "radialaxis": {
            "gridcolor": "rgb(232,232,232)",
            "linecolor": "rgb(36,36,36)",
            "showgrid": false,
            "showline": true,
            "ticks": "outside"
           }
          },
          "scene": {
           "xaxis": {
            "backgroundcolor": "white",
            "gridcolor": "rgb(232,232,232)",
            "gridwidth": 2,
            "linecolor": "rgb(36,36,36)",
            "showbackground": true,
            "showgrid": false,
            "showline": true,
            "ticks": "outside",
            "zeroline": false,
            "zerolinecolor": "rgb(36,36,36)"
           },
           "yaxis": {
            "backgroundcolor": "white",
            "gridcolor": "rgb(232,232,232)",
            "gridwidth": 2,
            "linecolor": "rgb(36,36,36)",
            "showbackground": true,
            "showgrid": false,
            "showline": true,
            "ticks": "outside",
            "zeroline": false,
            "zerolinecolor": "rgb(36,36,36)"
           },
           "zaxis": {
            "backgroundcolor": "white",
            "gridcolor": "rgb(232,232,232)",
            "gridwidth": 2,
            "linecolor": "rgb(36,36,36)",
            "showbackground": true,
            "showgrid": false,
            "showline": true,
            "ticks": "outside",
            "zeroline": false,
            "zerolinecolor": "rgb(36,36,36)"
           }
          },
          "shapedefaults": {
           "fillcolor": "black",
           "line": {
            "width": 0
           },
           "opacity": 0.3
          },
          "ternary": {
           "aaxis": {
            "gridcolor": "rgb(232,232,232)",
            "linecolor": "rgb(36,36,36)",
            "showgrid": false,
            "showline": true,
            "ticks": "outside"
           },
           "baxis": {
            "gridcolor": "rgb(232,232,232)",
            "linecolor": "rgb(36,36,36)",
            "showgrid": false,
            "showline": true,
            "ticks": "outside"
           },
           "bgcolor": "white",
           "caxis": {
            "gridcolor": "rgb(232,232,232)",
            "linecolor": "rgb(36,36,36)",
            "showgrid": false,
            "showline": true,
            "ticks": "outside"
           }
          },
          "title": {
           "x": 0.05
          },
          "xaxis": {
           "automargin": true,
           "gridcolor": "rgb(232,232,232)",
           "linecolor": "rgb(36,36,36)",
           "showgrid": false,
           "showline": true,
           "ticks": "outside",
           "title": {
            "standoff": 15
           },
           "zeroline": false,
           "zerolinecolor": "rgb(36,36,36)"
          },
          "yaxis": {
           "automargin": true,
           "gridcolor": "rgb(232,232,232)",
           "linecolor": "rgb(36,36,36)",
           "showgrid": false,
           "showline": true,
           "ticks": "outside",
           "title": {
            "standoff": 15
           },
           "zeroline": false,
           "zerolinecolor": "rgb(36,36,36)"
          }
         }
        },
        "title": {
         "font": {
          "color": "Black",
          "size": 22
         },
         "text": "<b>Intertopic Distance Map</b>",
         "x": 0.5,
         "xanchor": "center",
         "y": 0.95,
         "yanchor": "top"
        },
        "width": 650,
        "xaxis": {
         "anchor": "y",
         "domain": [
          0,
          1
         ],
         "range": [
          -11.416312170028686,
          33.44708871841431
         ],
         "title": {
          "text": ""
         },
         "visible": false
        },
        "yaxis": {
         "anchor": "x",
         "domain": [
          0,
          1
         ],
         "range": [
          -17.25425968170166,
          30.066482925415038
         ],
         "title": {
          "text": ""
         },
         "visible": false
        }
       }
      }
     },
     "metadata": {},
     "output_type": "display_data"
    }
   ],
   "source": [
    "topic_model.visualize_topics()"
   ]
  },
  {
   "cell_type": "code",
   "execution_count": 298,
   "id": "26312def",
   "metadata": {},
   "outputs": [],
   "source": [
    "topic_df = topic_model.get_topic_info()"
   ]
  },
  {
   "cell_type": "code",
   "execution_count": 299,
   "id": "d2eef5ba",
   "metadata": {},
   "outputs": [
    {
     "data": {
      "text/html": [
       "<div>\n",
       "<style scoped>\n",
       "    .dataframe tbody tr th:only-of-type {\n",
       "        vertical-align: middle;\n",
       "    }\n",
       "\n",
       "    .dataframe tbody tr th {\n",
       "        vertical-align: top;\n",
       "    }\n",
       "\n",
       "    .dataframe thead th {\n",
       "        text-align: right;\n",
       "    }\n",
       "</style>\n",
       "<table border=\"1\" class=\"dataframe\">\n",
       "  <thead>\n",
       "    <tr style=\"text-align: right;\">\n",
       "      <th></th>\n",
       "      <th>Topic</th>\n",
       "      <th>Count</th>\n",
       "      <th>Name</th>\n",
       "      <th>Representation</th>\n",
       "      <th>Representative_Docs</th>\n",
       "    </tr>\n",
       "  </thead>\n",
       "  <tbody>\n",
       "    <tr>\n",
       "      <th>0</th>\n",
       "      <td>-1</td>\n",
       "      <td>133</td>\n",
       "      <td>-1_the_of_and_to</td>\n",
       "      <td>[the, of, and, to, in, for, is, data, we, on, ...</td>\n",
       "      <td>[Training\\nBased on our experiments, although ...</td>\n",
       "    </tr>\n",
       "    <tr>\n",
       "      <th>1</th>\n",
       "      <td>0</td>\n",
       "      <td>10</td>\n",
       "      <td>0_state_finite_39_𝑠0</td>\n",
       "      <td>[state, finite, 39, 𝑠0, grammar, input, cents,...</td>\n",
       "      <td>[Definition\\nA finite-state automaton 𝑀= (𝑆, 𝐼...</td>\n",
       "    </tr>\n",
       "    <tr>\n",
       "      <th>2</th>\n",
       "      <td>1</td>\n",
       "      <td>9</td>\n",
       "      <td>1_journal_arxiv_and_learning</td>\n",
       "      <td>[journal, arxiv, and, learning, in, pp, resear...</td>\n",
       "      <td>[exploration: Using topic models for the descr...</td>\n",
       "    </tr>\n",
       "    <tr>\n",
       "      <th>3</th>\n",
       "      <td>2</td>\n",
       "      <td>9</td>\n",
       "      <td>2_matrix_the_is_of</td>\n",
       "      <td>[matrix, the, is, of, covariance, eigenvectors...</td>\n",
       "      <td>[3. A matrix is symmetric if and only if it is...</td>\n",
       "    </tr>\n",
       "    <tr>\n",
       "      <th>4</th>\n",
       "      <td>3</td>\n",
       "      <td>8</td>\n",
       "      <td>3_fuzzy_set_sets_xi</td>\n",
       "      <td>[fuzzy, set, sets, xi, the, metric, of, to, si...</td>\n",
       "      <td>[which is a non-expansive map since a ≤b impli...</td>\n",
       "    </tr>\n",
       "    <tr>\n",
       "      <th>5</th>\n",
       "      <td>4</td>\n",
       "      <td>8</td>\n",
       "      <td>4_https_url_org_2024</td>\n",
       "      <td>[https, url, org, 2024, arxiv, abs, and, li, c...</td>\n",
       "      <td>[Stephanie Chen, Yannis Kalantidis, Li-Jia Li,...</td>\n",
       "    </tr>\n",
       "    <tr>\n",
       "      <th>6</th>\n",
       "      <td>5</td>\n",
       "      <td>8</td>\n",
       "      <td>5_dataset_thai_to_the</td>\n",
       "      <td>[dataset, thai, to, the, quality, we, et, al, ...</td>\n",
       "      <td>[the inclusion of a high-quality English datas...</td>\n",
       "    </tr>\n",
       "    <tr>\n",
       "      <th>7</th>\n",
       "      <td>6</td>\n",
       "      <td>8</td>\n",
       "      <td>6_arxiv_neural_and_preprint</td>\n",
       "      <td>[arxiv, neural, and, preprint, 2016, learning,...</td>\n",
       "      <td>[[18] Nal Kalchbrenner, Lasse Espeholt, Karen ...</td>\n",
       "    </tr>\n",
       "    <tr>\n",
       "      <th>8</th>\n",
       "      <td>7</td>\n",
       "      <td>7</td>\n",
       "      <td>7_attention_layer_the_layers</td>\n",
       "      <td>[attention, layer, the, layers, sequence, posi...</td>\n",
       "      <td>[(x1, ..., xn) to another sequence of equal le...</td>\n",
       "    </tr>\n",
       "    <tr>\n",
       "      <th>9</th>\n",
       "      <td>8</td>\n",
       "      <td>7</td>\n",
       "      <td>8_the_vij_pij_wij</td>\n",
       "      <td>[the, vij, pij, wij, algorithm, of, log, sne, ...</td>\n",
       "      <td>[\u0010\\n1 + ∥yi −yj∥2\\n2\\n\u0011−1\\n(8)\\nfollowed by th...</td>\n",
       "    </tr>\n",
       "    <tr>\n",
       "      <th>10</th>\n",
       "      <td>9</td>\n",
       "      <td>6</td>\n",
       "      <td>9_findings_experimental_setup_results</td>\n",
       "      <td>[findings, experimental, setup, results, speec...</td>\n",
       "      <td>[16\\n3.4\\nFunction Calling . . . . . . . . . ....</td>\n",
       "    </tr>\n",
       "    <tr>\n",
       "      <th>11</th>\n",
       "      <td>10</td>\n",
       "      <td>6</td>\n",
       "      <td>10_association_arxiv_linguistics_computational</td>\n",
       "      <td>[association, arxiv, linguistics, computationa...</td>\n",
       "      <td>[Liang, and Tatsunori B. Hashimoto. Stanford a...</td>\n",
       "    </tr>\n",
       "    <tr>\n",
       "      <th>12</th>\n",
       "      <td>11</td>\n",
       "      <td>6</td>\n",
       "      <td>11_topic_modeling_topics_and</td>\n",
       "      <td>[topic, modeling, topics, and, words, semantic...</td>\n",
       "      <td>[• We further improve the model’s performance ...</td>\n",
       "    </tr>\n",
       "    <tr>\n",
       "      <th>13</th>\n",
       "      <td>12</td>\n",
       "      <td>5</td>\n",
       "      <td>12_finreal_finsing_functor_adjoint</td>\n",
       "      <td>[finreal, finsing, functor, adjoint, simplicia...</td>\n",
       "      <td>[as\\ninf\\nc∈C\\nZ b\\na\\np\\ng(˙c(t), ˙c(t))dt,\\n...</td>\n",
       "    </tr>\n",
       "    <tr>\n",
       "      <th>14</th>\n",
       "      <td>13</td>\n",
       "      <td>5</td>\n",
       "      <td>13_equation_xˆvi_matrix_vectors</td>\n",
       "      <td>[equation, xˆvi, matrix, vectors, the, of, is,...</td>\n",
       "      <td>[more precise.\\nX = UΣVT\\nUTX = ΣVT\\nUTX = Z\\n...</td>\n",
       "    </tr>\n",
       "    <tr>\n",
       "      <th>15</th>\n",
       "      <td>14</td>\n",
       "      <td>5</td>\n",
       "      <td>14_umap_in_of_section</td>\n",
       "      <td>[umap, in, of, section, structure, the, for, t...</td>\n",
       "      <td>[data. UMAP (Uniform Manifold Approximation an...</td>\n",
       "    </tr>\n",
       "    <tr>\n",
       "      <th>16</th>\n",
       "      <td>15</td>\n",
       "      <td>5</td>\n",
       "      <td>15_014_013_015_002</td>\n",
       "      <td>[014, 013, 015, 002, 017, 016, largevis, 967, ...</td>\n",
       "      <td>[Table 1: kNN Classiﬁer accuracy for varying v...</td>\n",
       "    </tr>\n",
       "    <tr>\n",
       "      <th>17</th>\n",
       "      <td>16</td>\n",
       "      <td>4</td>\n",
       "      <td>16_policy_topic_trade_coherence</td>\n",
       "      <td>[policy, topic, trade, coherence, crime, inves...</td>\n",
       "      <td>[4.7. Discussion\\nWe have presented a novel mo...</td>\n",
       "    </tr>\n",
       "    <tr>\n",
       "      <th>18</th>\n",
       "      <td>17</td>\n",
       "      <td>4</td>\n",
       "      <td>17_model_70b_al_et</td>\n",
       "      <td>[model, 70b, al, et, wsj, merging, llama, in, ...</td>\n",
       "      <td>[WSJ only, discriminative\\n88.3\\nPetrov et al....</td>\n",
       "    </tr>\n",
       "    <tr>\n",
       "      <th>19</th>\n",
       "      <td>18</td>\n",
       "      <td>4</td>\n",
       "      <td>18_1020_math_table_1019</td>\n",
       "      <td>[1020, math, table, 1019, dataset, of, en, 41,...</td>\n",
       "      <td>[19\\n5\\nSum of Thai Sensitive Topics\\n9,321\\n4...</td>\n",
       "    </tr>\n",
       "    <tr>\n",
       "      <th>20</th>\n",
       "      <td>19</td>\n",
       "      <td>4</td>\n",
       "      <td>19_agentic_content_agent_the</td>\n",
       "      <td>[agentic, content, agent, the, refine, correct...</td>\n",
       "      <td>[We adhere to the outlined automated design fr...</td>\n",
       "    </tr>\n",
       "    <tr>\n",
       "      <th>21</th>\n",
       "      <td>20</td>\n",
       "      <td>4</td>\n",
       "      <td>20_judge_bench_thai_the</td>\n",
       "      <td>[judge, bench, thai, the, gpt, model, mt, eval...</td>\n",
       "      <td>[output non-Thai characters when following Tha...</td>\n",
       "    </tr>\n",
       "    <tr>\n",
       "      <th>22</th>\n",
       "      <td>21</td>\n",
       "      <td>3</td>\n",
       "      <td>21_cluster_words_each_sentence</td>\n",
       "      <td>[cluster, words, each, sentence, topic, vocabu...</td>\n",
       "      <td>[mat\\nChunk 2\\nJPEG, GIF, Quantization, Colors...</td>\n",
       "    </tr>\n",
       "    <tr>\n",
       "      <th>23</th>\n",
       "      <td>22</td>\n",
       "      <td>3</td>\n",
       "      <td>22_thai_language_on_pretraining</td>\n",
       "      <td>[thai, language, on, pretraining, llms, instru...</td>\n",
       "      <td>[Typhoon: Thai Large Language Models\\nKunat Pi...</td>\n",
       "    </tr>\n",
       "    <tr>\n",
       "      <th>24</th>\n",
       "      <td>23</td>\n",
       "      <td>3</td>\n",
       "      <td>23_math_context_performance_code</td>\n",
       "      <td>[math, context, performance, code, coding, lon...</td>\n",
       "      <td>[a maximum context length of approximately 90,...</td>\n",
       "    </tr>\n",
       "    <tr>\n",
       "      <th>25</th>\n",
       "      <td>24</td>\n",
       "      <td>3</td>\n",
       "      <td>24_tokenizer_tokens_the_training</td>\n",
       "      <td>[tokenizer, tokens, the, training, big, model,...</td>\n",
       "      <td>[Falcon RefinedWeb [40] to our Thai data, resu...</td>\n",
       "    </tr>\n",
       "  </tbody>\n",
       "</table>\n",
       "</div>"
      ],
      "text/plain": [
       "    Topic  Count                                            Name  \\\n",
       "0      -1    133                                -1_the_of_and_to   \n",
       "1       0     10                            0_state_finite_39_𝑠0   \n",
       "2       1      9                    1_journal_arxiv_and_learning   \n",
       "3       2      9                              2_matrix_the_is_of   \n",
       "4       3      8                             3_fuzzy_set_sets_xi   \n",
       "5       4      8                            4_https_url_org_2024   \n",
       "6       5      8                           5_dataset_thai_to_the   \n",
       "7       6      8                     6_arxiv_neural_and_preprint   \n",
       "8       7      7                    7_attention_layer_the_layers   \n",
       "9       8      7                               8_the_vij_pij_wij   \n",
       "10      9      6           9_findings_experimental_setup_results   \n",
       "11     10      6  10_association_arxiv_linguistics_computational   \n",
       "12     11      6                    11_topic_modeling_topics_and   \n",
       "13     12      5              12_finreal_finsing_functor_adjoint   \n",
       "14     13      5                 13_equation_xˆvi_matrix_vectors   \n",
       "15     14      5                           14_umap_in_of_section   \n",
       "16     15      5                              15_014_013_015_002   \n",
       "17     16      4                 16_policy_topic_trade_coherence   \n",
       "18     17      4                              17_model_70b_al_et   \n",
       "19     18      4                         18_1020_math_table_1019   \n",
       "20     19      4                    19_agentic_content_agent_the   \n",
       "21     20      4                         20_judge_bench_thai_the   \n",
       "22     21      3                  21_cluster_words_each_sentence   \n",
       "23     22      3                 22_thai_language_on_pretraining   \n",
       "24     23      3                23_math_context_performance_code   \n",
       "25     24      3                24_tokenizer_tokens_the_training   \n",
       "\n",
       "                                       Representation  \\\n",
       "0   [the, of, and, to, in, for, is, data, we, on, ...   \n",
       "1   [state, finite, 39, 𝑠0, grammar, input, cents,...   \n",
       "2   [journal, arxiv, and, learning, in, pp, resear...   \n",
       "3   [matrix, the, is, of, covariance, eigenvectors...   \n",
       "4   [fuzzy, set, sets, xi, the, metric, of, to, si...   \n",
       "5   [https, url, org, 2024, arxiv, abs, and, li, c...   \n",
       "6   [dataset, thai, to, the, quality, we, et, al, ...   \n",
       "7   [arxiv, neural, and, preprint, 2016, learning,...   \n",
       "8   [attention, layer, the, layers, sequence, posi...   \n",
       "9   [the, vij, pij, wij, algorithm, of, log, sne, ...   \n",
       "10  [findings, experimental, setup, results, speec...   \n",
       "11  [association, arxiv, linguistics, computationa...   \n",
       "12  [topic, modeling, topics, and, words, semantic...   \n",
       "13  [finreal, finsing, functor, adjoint, simplicia...   \n",
       "14  [equation, xˆvi, matrix, vectors, the, of, is,...   \n",
       "15  [umap, in, of, section, structure, the, for, t...   \n",
       "16  [014, 013, 015, 002, 017, 016, largevis, 967, ...   \n",
       "17  [policy, topic, trade, coherence, crime, inves...   \n",
       "18  [model, 70b, al, et, wsj, merging, llama, in, ...   \n",
       "19  [1020, math, table, 1019, dataset, of, en, 41,...   \n",
       "20  [agentic, content, agent, the, refine, correct...   \n",
       "21  [judge, bench, thai, the, gpt, model, mt, eval...   \n",
       "22  [cluster, words, each, sentence, topic, vocabu...   \n",
       "23  [thai, language, on, pretraining, llms, instru...   \n",
       "24  [math, context, performance, code, coding, lon...   \n",
       "25  [tokenizer, tokens, the, training, big, model,...   \n",
       "\n",
       "                                  Representative_Docs  \n",
       "0   [Training\\nBased on our experiments, although ...  \n",
       "1   [Definition\\nA finite-state automaton 𝑀= (𝑆, 𝐼...  \n",
       "2   [exploration: Using topic models for the descr...  \n",
       "3   [3. A matrix is symmetric if and only if it is...  \n",
       "4   [which is a non-expansive map since a ≤b impli...  \n",
       "5   [Stephanie Chen, Yannis Kalantidis, Li-Jia Li,...  \n",
       "6   [the inclusion of a high-quality English datas...  \n",
       "7   [[18] Nal Kalchbrenner, Lasse Espeholt, Karen ...  \n",
       "8   [(x1, ..., xn) to another sequence of equal le...  \n",
       "9   [\u0010\\n1 + ∥yi −yj∥2\\n2\\n\u0011−1\\n(8)\\nfollowed by th...  \n",
       "10  [16\\n3.4\\nFunction Calling . . . . . . . . . ....  \n",
       "11  [Liang, and Tatsunori B. Hashimoto. Stanford a...  \n",
       "12  [• We further improve the model’s performance ...  \n",
       "13  [as\\ninf\\nc∈C\\nZ b\\na\\np\\ng(˙c(t), ˙c(t))dt,\\n...  \n",
       "14  [more precise.\\nX = UΣVT\\nUTX = ΣVT\\nUTX = Z\\n...  \n",
       "15  [data. UMAP (Uniform Manifold Approximation an...  \n",
       "16  [Table 1: kNN Classiﬁer accuracy for varying v...  \n",
       "17  [4.7. Discussion\\nWe have presented a novel mo...  \n",
       "18  [WSJ only, discriminative\\n88.3\\nPetrov et al....  \n",
       "19  [19\\n5\\nSum of Thai Sensitive Topics\\n9,321\\n4...  \n",
       "20  [We adhere to the outlined automated design fr...  \n",
       "21  [output non-Thai characters when following Tha...  \n",
       "22  [mat\\nChunk 2\\nJPEG, GIF, Quantization, Colors...  \n",
       "23  [Typhoon: Thai Large Language Models\\nKunat Pi...  \n",
       "24  [a maximum context length of approximately 90,...  \n",
       "25  [Falcon RefinedWeb [40] to our Thai data, resu...  "
      ]
     },
     "execution_count": 299,
     "metadata": {},
     "output_type": "execute_result"
    }
   ],
   "source": [
    "topic_df"
   ]
  },
  {
   "cell_type": "code",
   "execution_count": 300,
   "id": "88ff5bcf",
   "metadata": {},
   "outputs": [],
   "source": [
    "# Map doc_id -> list of its chunk topics\n",
    "doc_chunk_topics = defaultdict(list)\n",
    "\n",
    "for doc_id, topic in zip(doc_ids, chunk_topics):\n",
    "    doc_chunk_topics[doc_id].append(topic)\n",
    "\n",
    "# Map doc_id -> top topic (the most common topic number in its chunks)\n",
    "doc_top_topic = {}\n",
    "\n",
    "for doc_id, topics in doc_chunk_topics.items():\n",
    "    top_topic = Counter(topics).most_common(1)[0][0]  # get the most frequent topic\n",
    "    doc_top_topic[doc_id] = top_topic"
   ]
  },
  {
   "cell_type": "code",
   "execution_count": 301,
   "id": "a6fa813d",
   "metadata": {},
   "outputs": [
    {
     "name": "stdout",
     "output_type": "stream",
     "text": [
      "{'495fb9ae-61b7-45cd-9062-ef93cdba65aa': -1, 'd21282d0-6699-43b7-bc19-32e41ac54a99': -1, '12b22df8-a310-4c67-82e1-e0a8a9b60d48': -1, '2664dd5f-aa91-4c08-b30a-57b41e94e600': 11, '4b46efdf-0db0-42e2-af04-c03cd2d9058a': -1, '43531378-8340-494d-80d5-a5388e654029': 0, '3fecf9b1-d101-41cf-862c-433d3c4ffe58': -1, 'b21ef601-e9b2-4354-95f5-1d83ae6f4a3a': 7}\n"
     ]
    }
   ],
   "source": [
    "print(doc_top_topic)"
   ]
  },
  {
   "cell_type": "code",
   "execution_count": 302,
   "id": "ba27f0c3",
   "metadata": {},
   "outputs": [
    {
     "data": {
      "text/plain": [
       "{'495fb9ae-61b7-45cd-9062-ef93cdba65aa': -1,\n",
       " 'd21282d0-6699-43b7-bc19-32e41ac54a99': -1,\n",
       " '12b22df8-a310-4c67-82e1-e0a8a9b60d48': -1,\n",
       " '2664dd5f-aa91-4c08-b30a-57b41e94e600': 11,\n",
       " '4b46efdf-0db0-42e2-af04-c03cd2d9058a': -1,\n",
       " '43531378-8340-494d-80d5-a5388e654029': 0,\n",
       " '3fecf9b1-d101-41cf-862c-433d3c4ffe58': -1,\n",
       " 'b21ef601-e9b2-4354-95f5-1d83ae6f4a3a': 7}"
      ]
     },
     "execution_count": 302,
     "metadata": {},
     "output_type": "execute_result"
    }
   ],
   "source": [
    "doc_top_topic"
   ]
  },
  {
   "cell_type": "code",
   "execution_count": 303,
   "id": "d5a9af5f",
   "metadata": {},
   "outputs": [
    {
     "data": {
      "text/plain": [
       "{'495fb9ae-61b7-45cd-9062-ef93cdba65aa': Counter({-1: 26,\n",
       "          3: 8,\n",
       "          8: 7,\n",
       "          14: 5,\n",
       "          12: 5,\n",
       "          15: 4,\n",
       "          1: 4,\n",
       "          6: 3,\n",
       "          18: 1}),\n",
       " 'd21282d0-6699-43b7-bc19-32e41ac54a99': Counter({-1: 66,\n",
       "          5: 8,\n",
       "          4: 8,\n",
       "          9: 6,\n",
       "          19: 4,\n",
       "          23: 3,\n",
       "          17: 3,\n",
       "          20: 2,\n",
       "          18: 2}),\n",
       " '12b22df8-a310-4c67-82e1-e0a8a9b60d48': Counter({-1: 14,\n",
       "          10: 6,\n",
       "          22: 3,\n",
       "          20: 2,\n",
       "          24: 1,\n",
       "          15: 1}),\n",
       " '2664dd5f-aa91-4c08-b30a-57b41e94e600': Counter({11: 6,\n",
       "          -1: 6,\n",
       "          16: 4,\n",
       "          21: 3,\n",
       "          1: 3}),\n",
       " '4b46efdf-0db0-42e2-af04-c03cd2d9058a': Counter({-1: 12, 2: 9, 13: 5}),\n",
       " '43531378-8340-494d-80d5-a5388e654029': Counter({0: 10, -1: 1}),\n",
       " '3fecf9b1-d101-41cf-862c-433d3c4ffe58': Counter({-1: 2, 1: 2}),\n",
       " 'b21ef601-e9b2-4354-95f5-1d83ae6f4a3a': Counter({7: 7,\n",
       "          -1: 6,\n",
       "          6: 5,\n",
       "          24: 2,\n",
       "          18: 1,\n",
       "          17: 1})}"
      ]
     },
     "execution_count": 303,
     "metadata": {},
     "output_type": "execute_result"
    }
   ],
   "source": [
    "doc_topic_distribution = {\n",
    "    doc_id: Counter(topics)\n",
    "    for doc_id, topics in doc_chunk_topics.items()\n",
    "}\n",
    "\n",
    "doc_topic_distribution"
   ]
  },
  {
   "cell_type": "code",
   "execution_count": 304,
   "id": "3c530542",
   "metadata": {},
   "outputs": [],
   "source": [
    "doc_top_topic = {}\n",
    "\n",
    "for doc_id, topic_counts in doc_topic_distribution.items():\n",
    "    top_topic = topic_counts.most_common(1)[0][0]\n",
    "    doc_top_topic[doc_id] = top_topic"
   ]
  },
  {
   "cell_type": "code",
   "execution_count": 305,
   "id": "bd2a0990",
   "metadata": {},
   "outputs": [
    {
     "data": {
      "text/html": [
       "<div>\n",
       "<style scoped>\n",
       "    .dataframe tbody tr th:only-of-type {\n",
       "        vertical-align: middle;\n",
       "    }\n",
       "\n",
       "    .dataframe tbody tr th {\n",
       "        vertical-align: top;\n",
       "    }\n",
       "\n",
       "    .dataframe thead th {\n",
       "        text-align: right;\n",
       "    }\n",
       "</style>\n",
       "<table border=\"1\" class=\"dataframe\">\n",
       "  <thead>\n",
       "    <tr style=\"text-align: right;\">\n",
       "      <th></th>\n",
       "      <th>Top Topic</th>\n",
       "    </tr>\n",
       "  </thead>\n",
       "  <tbody>\n",
       "    <tr>\n",
       "      <th>495fb9ae-61b7-45cd-9062-ef93cdba65aa</th>\n",
       "      <td>-1</td>\n",
       "    </tr>\n",
       "    <tr>\n",
       "      <th>d21282d0-6699-43b7-bc19-32e41ac54a99</th>\n",
       "      <td>-1</td>\n",
       "    </tr>\n",
       "    <tr>\n",
       "      <th>12b22df8-a310-4c67-82e1-e0a8a9b60d48</th>\n",
       "      <td>-1</td>\n",
       "    </tr>\n",
       "    <tr>\n",
       "      <th>2664dd5f-aa91-4c08-b30a-57b41e94e600</th>\n",
       "      <td>11</td>\n",
       "    </tr>\n",
       "    <tr>\n",
       "      <th>4b46efdf-0db0-42e2-af04-c03cd2d9058a</th>\n",
       "      <td>-1</td>\n",
       "    </tr>\n",
       "    <tr>\n",
       "      <th>43531378-8340-494d-80d5-a5388e654029</th>\n",
       "      <td>0</td>\n",
       "    </tr>\n",
       "    <tr>\n",
       "      <th>3fecf9b1-d101-41cf-862c-433d3c4ffe58</th>\n",
       "      <td>-1</td>\n",
       "    </tr>\n",
       "    <tr>\n",
       "      <th>b21ef601-e9b2-4354-95f5-1d83ae6f4a3a</th>\n",
       "      <td>7</td>\n",
       "    </tr>\n",
       "  </tbody>\n",
       "</table>\n",
       "</div>"
      ],
      "text/plain": [
       "                                      Top Topic\n",
       "495fb9ae-61b7-45cd-9062-ef93cdba65aa         -1\n",
       "d21282d0-6699-43b7-bc19-32e41ac54a99         -1\n",
       "12b22df8-a310-4c67-82e1-e0a8a9b60d48         -1\n",
       "2664dd5f-aa91-4c08-b30a-57b41e94e600         11\n",
       "4b46efdf-0db0-42e2-af04-c03cd2d9058a         -1\n",
       "43531378-8340-494d-80d5-a5388e654029          0\n",
       "3fecf9b1-d101-41cf-862c-433d3c4ffe58         -1\n",
       "b21ef601-e9b2-4354-95f5-1d83ae6f4a3a          7"
      ]
     },
     "execution_count": 305,
     "metadata": {},
     "output_type": "execute_result"
    }
   ],
   "source": [
    "import pandas as pd\n",
    "\n",
    "df = pd.DataFrame.from_dict(doc_top_topic, orient='index', columns=['Top Topic'])\n",
    "df"
   ]
  },
  {
   "cell_type": "code",
   "execution_count": 282,
   "id": "563f97e3",
   "metadata": {},
   "outputs": [],
   "source": [
    "doc_chunk_indices = defaultdict(list)\n",
    "for idx, doc_id in enumerate(doc_ids):\n",
    "    doc_chunk_indices[doc_id].append(idx)"
   ]
  },
  {
   "cell_type": "code",
   "execution_count": 283,
   "id": "f63388bf",
   "metadata": {},
   "outputs": [
    {
     "data": {
      "text/plain": [
       "8"
      ]
     },
     "execution_count": 283,
     "metadata": {},
     "output_type": "execute_result"
    }
   ],
   "source": [
    "len(list(doc_chunk_indices.items()))"
   ]
  },
  {
   "cell_type": "markdown",
   "id": "0d949ba7",
   "metadata": {},
   "source": [
    "### Try to generate topic label for cluster"
   ]
  },
  {
   "cell_type": "markdown",
   "id": "aafdd050",
   "metadata": {},
   "source": [
    "Not work"
   ]
  },
  {
   "cell_type": "code",
   "execution_count": 284,
   "id": "50c088e1",
   "metadata": {},
   "outputs": [],
   "source": [
    "from tqdm.auto import tqdm\n",
    "\n",
    "from api.agentic.core import call_llm\n",
    "\n",
    "def generate_document_topic_title(doc_id, topic_counter, top_n=5, chunk_texts_per_topic=None):\n",
    "    \"\"\"\n",
    "    Generate a comprehensive topic title for a single document.\n",
    "\n",
    "    Parameters:\n",
    "    - doc_id: str, document ID\n",
    "    - topic_counter: Counter {topic_id: count}\n",
    "    - top_n: int, number of top topics to consider\n",
    "    - chunk_texts_per_topic: dict {topic_id: [list of example chunk texts]} for the whole corpus or doc\n",
    "    \n",
    "    Returns:\n",
    "    - topic_title: str, generated by LLM\n",
    "    \"\"\"\n",
    "\n",
    "    total_chunks = sum(topic_counter.values())\n",
    "    top_topics = topic_counter.most_common(top_n)\n",
    "    print(top_topics)\n",
    "\n",
    "    coverage = sum(count for _, count in top_topics) / total_chunks\n",
    "\n",
    "    method = \"keyword\"\n",
    "    if method == \"example_text\":\n",
    "        example_texts = []\n",
    "        for topic_id, count in top_topics:\n",
    "            texts = chunk_texts_per_topic.get(topic_id, [])\n",
    "            # Take a few representative snippets (e.g., 3 per topic)\n",
    "            example_texts.extend(texts[:3])\n",
    "\n",
    "        # 3. Build prompt for LLM\n",
    "        prompt = f\"\"\"\n",
    "    You are an expert topic summarization AI.\n",
    "\n",
    "    Your task is to generate a **single, concise, and comprehensive topic title** that accurately represents the overall themes in a document that covers multiple related topics.\n",
    "\n",
    "    # Instructions:\n",
    "    1. Carefully read the provided content snippets extracted from the document’s dominant topics.\n",
    "    2. Identify the key themes and concepts that unify the snippets.\n",
    "    3. Synthesize these into one clear, professional topic title that reflects the document as a whole.\n",
    "    4. Follow all formatting and style rules strictly.\n",
    "\n",
    "    # Formatting & Style Rules:\n",
    "    - The title must summarize all key themes collectively.\n",
    "    - Use clear and professional language.\n",
    "    - Keep the title concise: no more than 8-10 words.\n",
    "    - Use Title Case (capitalize major words).\n",
    "    - Avoid generic, vague, or filler phrases such as:\n",
    "    \"Summary of\", \"Document about\", \"Overview of\", \"Introduction to\", etc.\n",
    "    - Do not use punctuation at the end of the title (no periods, exclamation marks).\n",
    "    - Include technical terms where appropriate to preserve meaning.\n",
    "    - The title should be a noun phrase or a succinct descriptive phrase, not a full sentence.\n",
    "\n",
    "    # Example Inputs and Outputs:\n",
    "\n",
    "    **Input:**\n",
    "    Snippets:\n",
    "    - \"Deep learning techniques improve medical imaging analysis accuracy.\"\n",
    "    - \"Neural networks are used for automated tumor detection.\"\n",
    "    - \"AI models can predict disease progression using imaging data.\"\n",
    "\n",
    "    **Output:**\n",
    "    AI-Powered Medical Imaging Analysis\n",
    "\n",
    "    ---\n",
    "\n",
    "    **Input:**\n",
    "    Snippets:\n",
    "    - \"The history of computer programming languages from Assembly to Python.\"\n",
    "    - \"Key milestones in software development over the decades.\"\n",
    "    - \"Evolution of coding practices and paradigms.\"\n",
    "\n",
    "    **Output:**\n",
    "    Evolution of Programming Languages\n",
    "\n",
    "    ---\n",
    "\n",
    "    **Input:**\n",
    "    Snippets:\n",
    "    - \"Renewable energy sources reduce carbon emissions globally.\"\n",
    "    - \"Solar and wind power technologies are becoming more affordable.\"\n",
    "    - \"Sustainable energy policies drive green innovation worldwide.\"\n",
    "\n",
    "    **Output:**\n",
    "    Global Trends in Renewable Energy Technologies\n",
    "\n",
    "    ---\n",
    "\n",
    "    # Now, generate the topic title for the following snippets:\n",
    "\n",
    "    The document’s dominant topics cover approximately {coverage:.0%} of its content.\n",
    "\n",
    "    Snippets:\n",
    "    {chr(10).join(f\"- {text}\" for text in example_texts)}\n",
    "\n",
    "    Topic Title:\n",
    "    \"\"\"\n",
    "    else:\n",
    "        # Use keywords from get_topic\n",
    "        topic_words_list = [word for word, _ in topic_model.get_topic(top_topics[0][0])]\n",
    "        prompt = f\"\"\"\n",
    "    You are an expert topic summarization AI.\n",
    "\n",
    "    Your task is to generate a **single, concise, and comprehensive topic title** that accurately represents the overall themes in a document, based on a set of important keywords extracted from its dominant topics.\n",
    "\n",
    "    # Instructions:\n",
    "    1. Carefully read the provided keywords for each dominant topic in the document.\n",
    "    2. Identify the overarching themes or concepts these keywords suggest.\n",
    "    3. Synthesize these into one clear, professional topic title that reflects the document as a whole.\n",
    "    4. Follow all formatting and style rules strictly.\n",
    "\n",
    "    # Formatting & Style Rules:\n",
    "    - The title must summarize the key themes collectively.\n",
    "    - Use clear, professional language.\n",
    "    - Keep the title concise: no more than 8-10 words.\n",
    "    - Use Title Case (capitalize major words).\n",
    "    - Avoid generic or filler phrases like:\n",
    "    \"Summary of\", \"Document about\", \"Overview of\", \"Introduction to\", etc.\n",
    "    - Do not use punctuation at the end of the title.\n",
    "    - Use important technical terms or keywords where appropriate.\n",
    "\n",
    "    # Example Inputs and Outputs:\n",
    "\n",
    "    **Input:**\n",
    "    Keywords:\n",
    "    - Deep Learning, Medical Imaging, Tumor Detection, Neural Networks, Disease Prediction\n",
    "\n",
    "    **Output:**\n",
    "    AI-Powered Medical Imaging and Tumor Detection\n",
    "\n",
    "    ---\n",
    "\n",
    "    **Input:**\n",
    "    Keywords:\n",
    "    - Programming Languages, Software Development, Coding Paradigms, Assembly, Python\n",
    "\n",
    "    **Output:**\n",
    "    Evolution of Programming Languages and Coding Paradigms\n",
    "\n",
    "    ---\n",
    "\n",
    "    **Input:**\n",
    "    Keywords:\n",
    "    - Renewable Energy, Solar Power, Wind Power, Carbon Emissions, Green Innovation\n",
    "\n",
    "    **Output:**\n",
    "    Global Trends in Renewable Energy Technologies\n",
    "\n",
    "    ---\n",
    "\n",
    "    # Now, generate the topic title for the following keywords:\n",
    "\n",
    "    The document’s dominant topics cover approximately {coverage:.0f}% of its content.\n",
    "\n",
    "    Keywords:\n",
    "    {chr(10).join(f\"- {', '.join(topic_words)}\" for topic_words in topic_words_list)}\n",
    "\n",
    "    Topic Title:\n",
    "    \"\"\"\n",
    "        \n",
    "    # 4. Call the LLM\n",
    "    topic_title = call_llm(prompt).strip()\n",
    "\n",
    "    return topic_title\n"
   ]
  },
  {
   "cell_type": "code",
   "execution_count": 285,
   "id": "762f921a",
   "metadata": {},
   "outputs": [
    {
     "data": {
      "application/vnd.jupyter.widget-view+json": {
       "model_id": "8c88e48d78264ab399bd984176096eb6",
       "version_major": 2,
       "version_minor": 0
      },
      "text/plain": [
       "  0%|          | 0/8 [00:00<?, ?it/s]"
      ]
     },
     "metadata": {},
     "output_type": "display_data"
    },
    {
     "name": "stdout",
     "output_type": "stream",
     "text": [
      "[(0, 50), (1, 8), (5, 4)]\n",
      "[(0, 69), (1, 24), (4, 6)]\n",
      "[(0, 14), (1, 12), (5, 1)]\n",
      "[(3, 16), (1, 5), (0, 1)]\n",
      "[(2, 25), (-1, 1)]\n",
      "[(0, 11)]\n",
      "[(2, 2), (1, 2)]\n",
      "[(0, 15), (1, 5), (2, 2)]\n"
     ]
    }
   ],
   "source": [
    "chunk_texts_per_topic = defaultdict(list)\n",
    "for chunk_text, topic_id in zip(chunk_texts, chunk_topics):\n",
    "    chunk_texts_per_topic[topic_id].append(chunk_text)\n",
    "\n",
    "doc_topic_titles = {}\n",
    "\n",
    "for doc_id, topic_counter in tqdm(list(doc_topic_distribution.items())):\n",
    "    title = generate_document_topic_title(doc_id, topic_counter, top_n=3, chunk_texts_per_topic=chunk_texts_per_topic)\n",
    "    doc_topic_titles[doc_id] = title"
   ]
  },
  {
   "cell_type": "code",
   "execution_count": 288,
   "id": "54986480",
   "metadata": {},
   "outputs": [
    {
     "data": {
      "text/plain": [
       "{'495fb9ae-61b7-45cd-9062-ef93cdba65aa': 'Language Models And Speech Performance Enhancement',\n",
       " 'd21282d0-6699-43b7-bc19-32e41ac54a99': 'Data Modeling and Speech Performance Analysis',\n",
       " '12b22df8-a310-4c67-82e1-e0a8a9b60d48': 'Data Modeling and Language Performance Assessment',\n",
       " '2664dd5f-aa91-4c08-b30a-57b41e94e600': 'Document Clustering And Semantic Modeling Techniques',\n",
       " '4b46efdf-0db0-42e2-af04-c03cd2d9058a': 'Matrix Algebra And Vector Operations Principles',\n",
       " '43531378-8340-494d-80d5-a5388e654029': 'Natural Language Processing And Speech Recognition Models',\n",
       " '3fecf9b1-d101-41cf-862c-433d3c4ffe58': 'Eigenvalue Decomposition and Principal Component Analysis',\n",
       " 'b21ef601-e9b2-4354-95f5-1d83ae6f4a3a': 'Natural Language Processing And Instruction Models'}"
      ]
     },
     "execution_count": 288,
     "metadata": {},
     "output_type": "execute_result"
    }
   ],
   "source": [
    "doc_topic_titles"
   ]
  },
  {
   "cell_type": "code",
   "execution_count": 287,
   "id": "da738d4f",
   "metadata": {},
   "outputs": [
    {
     "data": {
      "application/vnd.jupyter.widget-view+json": {
       "model_id": "3051eb4ec56b4411bdd154c0e1a88bce",
       "version_major": 2,
       "version_minor": 0
      },
      "text/plain": [
       "  0%|          | 0/7 [00:00<?, ?it/s]"
      ]
     },
     "metadata": {},
     "output_type": "display_data"
    },
    {
     "name": "stdout",
     "output_type": "stream",
     "text": [
      "the, of, to, and, in, is, we, for, thai, as, on, with, data, model, that, this, by, are, from, dataset, our, models, an, be, typhoon2, english, umap, al, speech, performance, et, set, can, typhoon, training, audio, table, using, instruct, it, language, or, which, text, instruction, fuzzy, sne, state, te, th\n",
      "arxiv, and, https, url, in, language, for, preprint, of, org, zhang, abs, 2023, conference, li, models, wang, neural, liu, learning, on, 2024, computational, linguistics, large, proceedings, the, association, processing, chen, pages, 2021, yang, pp, machine, international, yu, with, wei, 2020, information, systems, wu, 2022, 2018, daniel, lin, zhou, 2019, 2017\n",
      "the, of, is, this, in, matrix, we, that, to, are, be, pca, and, basis, data, by, an, can, for, vectors, set, what, but, all, from, along, principal, will, not, where, eigenvectors, covariance, how, equation, each, it, if, with, orthonormal, let, two, our, variance, orthogonal, have, or, one, as, column, figure\n",
      "topic, the, and, topics, words, to, cluster, of, model, in, each, for, semantic, sentence, modeling, coherence, document, we, within, embeddings, our, word, documents, is, from, based, extraction, that, contextual, end, are, process, as, with, embedding, clustering, this, similarity, clusters, models, coherent, score, collection, on, it, vector, meaningful, dense, policy, scores\n",
      "findings, setup, experimental, results, speech, data, and, 10, et, al, 42, families, thai, 2024, 28, general, end, high, foundation, models, sea, 22, are, 36, as, languages, 12, language, quality, 20, evaluation, such, model, sources, post, training, distillation, range, 46, architecture, there, 35, 41, 33, to, 23, 21, 17, vision, 38\n",
      "014, 013, 015, 002, 017, 016, largevis, 011, 967, 006, 003, accuracy, sne, fold, umap, for, of, embedding, 20, over, and, 100, eigenmaps, 023, 966, 230, 004, 085, 767, 005, 973, 007, 564, 957, 012, 949, 1600, 400, 778, 962, 800, 3200, grade, scores, classiﬁer, mnist, validation, varying, m3exam, pendigits\n"
     ]
    }
   ],
   "source": [
    "for topic_id in tqdm(list(topic_model.get_topics())):\n",
    "    if topic_id == -1:\n",
    "        continue\n",
    "\n",
    "    topic_words = [word for word, _ in topic_model.get_topic(topic_id)]\n",
    "    print(', '.join(topic_words))\n",
    "    "
   ]
  },
  {
   "cell_type": "code",
   "execution_count": null,
   "id": "f6cdf568",
   "metadata": {},
   "outputs": [],
   "source": []
  }
 ],
 "metadata": {
  "kernelspec": {
   "display_name": "api",
   "language": "python",
   "name": "python3"
  },
  "language_info": {
   "codemirror_mode": {
    "name": "ipython",
    "version": 3
   },
   "file_extension": ".py",
   "mimetype": "text/x-python",
   "name": "python",
   "nbconvert_exporter": "python",
   "pygments_lexer": "ipython3",
   "version": "3.9.5"
  }
 },
 "nbformat": 4,
 "nbformat_minor": 5
}
